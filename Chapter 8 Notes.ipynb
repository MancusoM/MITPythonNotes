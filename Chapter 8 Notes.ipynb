{
 "cells": [
  {
   "cell_type": "markdown",
   "id": "01ad6a34",
   "metadata": {},
   "source": [
    "# Chapter 8 Notes \n",
    "Link: https://ocw.mit.edu/courses/6-0001-introduction-to-computer-science-and-programming-in-python-fall-2016/resources/lecture-8-object-oriented-programming/"
   ]
  },
  {
   "cell_type": "markdown",
   "id": "3c7b7eff",
   "metadata": {},
   "source": [
    "#### Objects: \n",
    "    -Python supports many different kinds of data\n",
    "        -Fancy word for data \n",
    "    -Each is an object and each object has a type\n",
    "\n",
    "###### internal data representation \n",
    "    -set of procedures for interaction with the object \n",
    "    -an object is an instance of a type \n",
    "        -123 = example of int \n",
    "        - 'hello' is a string\n",
    "###### OOP:\n",
    "\n",
    "- can create objects of some new type \n",
    "- can manipulate objects\n",
    "- can destroy objects ( using del or forgetting.), python system will reclaim destoryed or inaccessible objects, \n",
    "     - called garage collecion\n"
   ]
  },
  {
   "cell_type": "markdown",
   "id": "bac1d46f",
   "metadata": {},
   "source": [
    "##### Objects: data abstraction \n",
    "\n",
    "Two features:\n",
    "    - whats on outside (exterior)\n",
    "    - an interface interacting with it (painting car)\n"
   ]
  },
  {
   "cell_type": "markdown",
   "id": "98428da4",
   "metadata": {},
   "source": [
    "###### Additional Notes\n",
    "How are lists represented internally:\n",
    "    -1--> 2--> 3--> 4--> 5\n",
    "\n",
    "How to manipulate lists: \n",
    "    -L[i], L[i:j] + len() + min() + max() + del(L[i])\n",
    "\n",
    "examples of commands: \n",
    "    - L.append(), L.extend(), L.count(), L.index(), L.insert(), L.pop(), L.remove(), L.reverse, L.sort()\n",
    "\n",
    "Internal representation should be private, correct behavior might be compromised if you manipulate \n",
    "    - internal representation directly "
   ]
  },
  {
   "cell_type": "markdown",
   "id": "8345d6a4",
   "metadata": {},
   "source": [
    "#### Creating a class: \n",
    "\n",
    "- making a distinction b/t creating a class & using an instance of the class \n",
    "\n",
    "###### Creating the class: \n",
    "    - Defining the class name \n",
    "    - Defining the class attributes \n",
    "        - I.e. someone wrote a code to implement a list\n",
    "    \n",
    "###### Using a class:\n",
    "    - Creating new instances of objects\n",
    "    - Doing operations on instances\n",
    "    - Coordinate object: object that will define a point in x,y place \n"
   ]
  },
  {
   "cell_type": "markdown",
   "id": "781ffdbd",
   "metadata": {},
   "source": [
    "##### Defining your own types \n",
    "    - use class keyword to define a new type\n",
    "\n",
    "###### Class Coordinate(object):\n",
    "    -define attributes here \n",
    "    - similiar to def, indent code to indicate which statements are party of class definition\n",
    "\n",
    "###### The word object means that Coordinate is a python object and inherits all attributes \n",
    "    - Coordinate is a subclass of object \n",
    "    - Object is a super class of coordinate\n",
    "\n",
    "    Attributes: \n",
    "        -data and procedures that belong to class \n",
    "\n",
    "###### Data Attributes: \n",
    "    -think of data as other object that make up class \n",
    "        -i.e. coordinate is made up of 2 numbers \n",
    "\n",
    "###### Methods (procedural attributes)\n",
    "    -think of methods as functions that only work with this class \n",
    "    -how to interact with object\n",
    "            - i.e. you can define a distance between two coordinate objects, but there is no meaning to a distance  between 2 lsit objects \n"
   ]
  },
  {
   "cell_type": "code",
   "execution_count": 21,
   "id": "69ab03a4",
   "metadata": {},
   "outputs": [],
   "source": [
    "###### Defining how to create an instance of a class \n",
    "class Coordinate(object):\n",
    "    '''\n",
    "    - first have to define how to create an instance of object\n",
    "    - use a special method called __init__ to initalize some data attributes \n",
    "    '''\n",
    "    def __init__ (self,x,y): #self = parameter that refers to instance of class, used bc of class\n",
    "        self.x = x \n",
    "        self.y = y\n",
    "        "
   ]
  },
  {
   "cell_type": "code",
   "execution_count": 22,
   "id": "ee56eeb2",
   "metadata": {},
   "outputs": [
    {
     "name": "stdout",
     "output_type": "stream",
     "text": [
      "3\n",
      "0\n"
     ]
    }
   ],
   "source": [
    "#Actually instances of creating a class\n",
    "# Data attributes of an instance are called instance variables \n",
    "# Don't provide argument for self, Python does this automatically \n",
    "c = Coordinate (3,4)\n",
    "origin = Coordinate (0,0)\n",
    "print(c.x)\n",
    "print(origin.x)"
   ]
  },
  {
   "cell_type": "code",
   "execution_count": 23,
   "id": "b30146a3",
   "metadata": {},
   "outputs": [],
   "source": [
    "class Coordinate(object):\n",
    "    def __init__(self,x,y):\n",
    "        self.x=x\n",
    "        self.y=y\n",
    "    def distance(self,other):\n",
    "        x_diff_sq = (self.x-other.x) **2\n",
    "        y_diff_sq = (self.y-other.y) **2\n",
    "        return (x_diff_sq+ y_diff_sq) **.05\n",
    "#other than self and dot notation, methods behave just like functions "
   ]
  },
  {
   "cell_type": "markdown",
   "id": "2f2d3bde",
   "metadata": {},
   "source": [
    "###### How to use a method "
   ]
  },
  {
   "cell_type": "code",
   "execution_count": 24,
   "id": "00b42ac1",
   "metadata": {},
   "outputs": [],
   "source": [
    "def distance(self,other):\n",
    "    #code here \n",
    "    c = Coordinate(3,4)\n",
    "    zero = Coordinate(0,0)\n",
    "    print(c.distance(zero))"
   ]
  },
  {
   "cell_type": "code",
   "execution_count": 25,
   "id": "2153ef3d",
   "metadata": {},
   "outputs": [
    {
     "name": "stdout",
     "output_type": "stream",
     "text": [
      "<__main__.Coordinate object at 0x7fd2e14ed990>\n"
     ]
    }
   ],
   "source": [
    "c = Coordinate(3,4)\n",
    "print(c) #just prints that the function exists "
   ]
  },
  {
   "cell_type": "code",
   "execution_count": 26,
   "id": "4613e18a",
   "metadata": {},
   "outputs": [],
   "source": [
    "class Coordinate(object):\n",
    "    '''\n",
    "    Uninformative print representation by default\n",
    "\n",
    "    Define a __str__ method for class\n",
    "\n",
    "    Python calls the __str__ method when used with print on your class object\n",
    "\n",
    "    Choose what it does! \n",
    "    '''\n",
    "    \n",
    "    def __init__(self,x,y):\n",
    "        self.x =x\n",
    "        self.y =y \n",
    "    def distance(self,other):\n",
    "        x_diff_sq = (self.x - other.x) **2\n",
    "        y_diff_sq = (self.y- other.y) **2\n",
    "        return (x_diff_sq + y_diff_sq) **0.5\n",
    "    def __str__(self):\n",
    "        return \"<\" +str(self.x) +',' + str(self.y)+\">\""
   ]
  },
  {
   "cell_type": "code",
   "execution_count": 27,
   "id": "b8510425",
   "metadata": {},
   "outputs": [
    {
     "name": "stdout",
     "output_type": "stream",
     "text": [
      "<3,4>\n"
     ]
    }
   ],
   "source": [
    "c = Coordinate(3,4)\n",
    "print(c) #return of __str__ method"
   ]
  },
  {
   "cell_type": "code",
   "execution_count": 28,
   "id": "c8f98e67",
   "metadata": {},
   "outputs": [
    {
     "name": "stdout",
     "output_type": "stream",
     "text": [
      "<class '__main__.Coordinate'>\n"
     ]
    }
   ],
   "source": [
    "print(type(c)) #type of object c is class Coordinate"
   ]
  },
  {
   "cell_type": "code",
   "execution_count": 29,
   "id": "f40cfc3d",
   "metadata": {},
   "outputs": [
    {
     "name": "stdout",
     "output_type": "stream",
     "text": [
      "<class '__main__.Coordinate'>\n",
      "<class 'type'>\n"
     ]
    }
   ],
   "source": [
    "print(Coordinate)\n",
    "print(type(Coordinate)) #coordinate is a class "
   ]
  },
  {
   "cell_type": "code",
   "execution_count": 30,
   "id": "1ee8d44d",
   "metadata": {},
   "outputs": [
    {
     "name": "stdout",
     "output_type": "stream",
     "text": [
      "True\n"
     ]
    }
   ],
   "source": [
    "print(isinstance(c,Coordinate)) #check if an object is a Coordinate"
   ]
  },
  {
   "cell_type": "markdown",
   "id": "30b053ac",
   "metadata": {},
   "source": [
    "##### Special operations\n",
    "\n",
    "+,-,==,>,<,len,print() + others\n",
    "\n",
    "like print, can override these to work with your class \n",
    "\n",
    "- __add__(self,other) --> self + other\n",
    "- __sub__(self,other) --> self - other\n",
    "- __eq__(self,other) --> self == other\n",
    "- __lt__(self,other) --> self < other\n",
    "- __len__(self,other) --> len(self)\n",
    "- __str__(self) --> print self \n"
   ]
  },
  {
   "cell_type": "code",
   "execution_count": 31,
   "id": "b932e605",
   "metadata": {},
   "outputs": [
    {
     "name": "stdout",
     "output_type": "stream",
     "text": [
      "16/16\n",
      "1.0\n",
      "1.0\n",
      "1.3333333333333333\n"
     ]
    }
   ],
   "source": [
    "#Full OOO function\n",
    "class Fraction(object):\n",
    "    def __init__(self,num,denom):\n",
    "        #num and denom are ints\n",
    "        assert type(num) ==int and type(denom) == int, 'ints not used'\n",
    "        self.num = num\n",
    "        self.denom = denom\n",
    "    def __str__(self):\n",
    "        #returns a string rep\n",
    "        return str(self.num) +'/' + str(self.denom)\n",
    "    def __add__(self,other):\n",
    "        #returns a new fraction representating \n",
    "        top = self.num * other.denom + self.denom * other.num\n",
    "        bott = self.denom *other.denom\n",
    "        return Fraction(top,bott)\n",
    "    def __sub__(self,other):\n",
    "        #returns a new fraction\n",
    "        top = self.num*other.denom - self.denom* other_num\n",
    "        bott = self.denom*other_denom\n",
    "        return Fraction(top, bott)\n",
    "    def __float__(self):\n",
    "        '''returns float value of frac'''\n",
    "        return self.num/self.denom\n",
    "    def inverse(self):\n",
    "        '''returns a new frac representing str'''\n",
    "        return Fraction(self.denom,self.num)\n",
    "a = Fraction(1,4)\n",
    "b = Fraction(3,4)\n",
    "c = a+b\n",
    "print(c)\n",
    "print(float(c))\n",
    "print(Fraction.__float__(c))\n",
    "print(float(b.inverse()))"
   ]
  }
 ],
 "metadata": {
  "kernelspec": {
   "display_name": "Python 3",
   "language": "python",
   "name": "python3"
  },
  "language_info": {
   "codemirror_mode": {
    "name": "ipython",
    "version": 3
   },
   "file_extension": ".py",
   "mimetype": "text/x-python",
   "name": "python",
   "nbconvert_exporter": "python",
   "pygments_lexer": "ipython3",
   "version": "3.7.4"
  }
 },
 "nbformat": 4,
 "nbformat_minor": 5
}
