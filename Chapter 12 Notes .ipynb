{
 "cells": [
  {
   "cell_type": "markdown",
   "id": "d4d410b0",
   "metadata": {},
   "source": [
    "### Chapter 12 Notes \n",
    "Link: https://ocw.mit.edu/courses/6-0001-introduction-to-computer-science-and-programming-in-python-fall-2016/resources/lecture-12-searching-and-sorting/"
   ]
  },
  {
   "cell_type": "markdown",
   "id": "6f80bb57",
   "metadata": {},
   "source": [
    "### Searching and Sorting Algos\n",
    "###### Searching Different Algos \n",
    "    - Linear search\n",
    "        - Brute force search (British Museum)\n",
    "        -List doesn't have to be sorted\n",
    "    - Bisection Search \n",
    "        - list must be sorted to give correct answer \n",
    "        - saw two different implementations of algo "
   ]
  },
  {
   "cell_type": "markdown",
   "id": "a2eae584",
   "metadata": {},
   "source": [
    "#### Linear Search on unsorted list \n",
    "- Must look through all elements to decide if its not there\n",
    "- Overall complexity is Order(n)"
   ]
  },
  {
   "cell_type": "code",
   "execution_count": 11,
   "id": "c9d0dd7a",
   "metadata": {},
   "outputs": [],
   "source": [
    "def linear_search(L,e):\n",
    "    found = False \n",
    "    for i in range (len(L)):\n",
    "        if e == L[i]:\n",
    "            found = True\n",
    "    return found "
   ]
  },
  {
   "cell_type": "markdown",
   "id": "2351b484",
   "metadata": {},
   "source": [
    "#### Linear Search on Sorted List"
   ]
  },
  {
   "cell_type": "code",
   "execution_count": 12,
   "id": "49a53129",
   "metadata": {},
   "outputs": [],
   "source": [
    "def search(L,e):\n",
    "    for i in range(len(L)):\n",
    "        if L[i] ==e:\n",
    "            return True\n",
    "        if L[i] > e:\n",
    "            return False\n",
    "    return False"
   ]
  },
  {
   "cell_type": "markdown",
   "id": "badbd47d",
   "metadata": {},
   "source": [
    "##### Bisection search \n",
    "- log (n) algo        "
   ]
  },
  {
   "cell_type": "code",
   "execution_count": 13,
   "id": "50842204",
   "metadata": {},
   "outputs": [],
   "source": [
    "def bisect_search2(L,e):\n",
    "    def bisect_search_helper(L,e,low,high):\n",
    "        if high ==low:\n",
    "            return L[low] == e\n",
    "        mid = (low +high)//2\n",
    "        if L[mid] == e:\n",
    "            return True\n",
    "        elif L[mid] > e:\n",
    "            if low == mid: #nothing left to search\n",
    "                return False\n",
    "            else:\n",
    "                return bisect_search_helper(L,e,low,mid-1)\n",
    "        else:\n",
    "            return bisect_search_helper(L,e,mid+1,high)\n",
    "    if len(L) ==0:\n",
    "        return False\n",
    "    else:\n",
    "        return bisect_search_helper(L,e,0,len(L)-1)\n"
   ]
  },
  {
   "cell_type": "markdown",
   "id": "11e152ac",
   "metadata": {},
   "source": [
    "##### Searching a sorted list --- n is len(L)\n",
    "- using linear search, search for an element is O(n)\n",
    "- using search, can searched for an lement in O(log n)\n",
    "##### When does it make sense to sort first, then search\n",
    "   - SORT + O(log n) < O(n) --> SORT < O(n) - O(log n)\n",
    "   - when sorting is less than O(n)"
   ]
  },
  {
   "cell_type": "markdown",
   "id": "b902a7ef",
   "metadata": {},
   "source": [
    "###### Amortized Cost\n",
    "- Why bother sorting first? \n",
    "- In some cases, may sort a list once, then do many searches\n",
    "- Amortize cost of the sort over many searches \n",
    "- SORT + K*O(log n) < K * O(n)\n",
    "    -> for large K, SORT time becomes irrelevant, if cost of sorting is small enough "
   ]
  },
  {
   "cell_type": "markdown",
   "id": "1262b32a",
   "metadata": {},
   "source": [
    "## Monkey Sort \n",
    "    - best case: O(N) where n is len(L) to check if sorted\n",
    "    - worst case: O(?) it is unbounded if really unlucky\n",
    "    - quadratic"
   ]
  },
  {
   "cell_type": "code",
   "execution_count": 14,
   "id": "2efaa0cc",
   "metadata": {},
   "outputs": [],
   "source": [
    "def monkey_sort(L):\n",
    "    while not is_sorted(L):\n",
    "        random.shuffle(L)"
   ]
  },
  {
   "cell_type": "markdown",
   "id": "df2f319d",
   "metadata": {},
   "source": [
    "## Bubble Sort\n",
    "- swaps adjacent elments if they are in the wrong order\n",
    "\n",
    "- Inner for loop is doing comparisons \n",
    "- outer while loop is for doing multiple passes until no more swaps"
   ]
  },
  {
   "cell_type": "code",
   "execution_count": 15,
   "id": "3c34bcae",
   "metadata": {},
   "outputs": [
    {
     "name": "stdout",
     "output_type": "stream",
     "text": [
      "\n",
      "bubble sort[1, 3, 5, 7, 2, 6, 25, 18, 13]\n",
      "bubble sort[1, 3, 5, 2, 6, 7, 18, 13, 25]\n",
      "bubble sort[1, 3, 2, 5, 6, 7, 13, 18, 25]\n",
      "bubble sort[1, 2, 3, 5, 6, 7, 13, 18, 25]\n",
      "None\n",
      "[1, 2, 3, 5, 6, 7, 13, 18, 25]\n"
     ]
    }
   ],
   "source": [
    "def bubble_sort(L):\n",
    "    swap =False\n",
    "    while not swap: #O(len(L))\n",
    "        print('bubble sort'+str(L))\n",
    "        swap =True\n",
    "        for j in range(1, len(L)): #O(len(L))\n",
    "            if L[j-1] > L[j]:\n",
    "                swap =False\n",
    "                temp  = L[j]\n",
    "                L[j] = L[j-1]\n",
    "                L[j-1] = temp\n",
    "                \n",
    "testList = [1,3,5,7,2,6,25,18,13]\n",
    "\n",
    "print('')\n",
    "print(bubble_sort(testList))\n",
    "print(testList)"
   ]
  },
  {
   "cell_type": "markdown",
   "id": "d7f8f04e",
   "metadata": {},
   "source": [
    "### Selection Sort \n",
    "##### First step \n",
    "- extract min element\n",
    "- swap it with element at index 0\n",
    "###### Subsquent step \n",
    "- in remaining sublist, extract min element \n",
    "- swap it with element at index 1\n",
    "###### keep the list portion of the list sorted\n",
    "- at i'th step, first i elements in list are sorted\n",
    "- all other elements are bigger than first i elements"
   ]
  },
  {
   "cell_type": "markdown",
   "id": "c679a7e3",
   "metadata": {},
   "source": [
    "#### Analyzing Selection Sort\n",
    "- loop variant\n",
    "    - given predfix of list L[0:i] and suffix L[I+1: len(L)], then prefix is sorted and no element in prefix is larger than smallest element in suffix\n",
    "\\n \n",
    "1. base case: prefix empty, suffix whole list -- invariant true \n",
    "\n",
    "2. induction step: move minumum element from suffix to end of prefix. Since invariant true before move, predix sorted after append \n",
    "\n",
    "3. when exit, prefix is entire list, suffix empty, so sorted"
   ]
  },
  {
   "cell_type": "markdown",
   "id": "3093cc00",
   "metadata": {},
   "source": [
    "###### Complexity of Selection Sort\n",
    "- outer loop executes len(L) times\n",
    "- inner loop executes len(L) - i times\n",
    "- complexity of selection sort is O(n^2) where n is len(L)\n",
    "- quadratic"
   ]
  },
  {
   "cell_type": "code",
   "execution_count": 16,
   "id": "7154d84c",
   "metadata": {},
   "outputs": [
    {
     "name": "stdout",
     "output_type": "stream",
     "text": [
      "\n",
      "selection sort: [1, 3, 5, 2, 6, 25, 18, 13]\n",
      "selection sort: [1, 3, 5, 2, 6, 25, 18, 13]\n",
      "selection sort: [1, 2, 5, 3, 6, 25, 18, 13]\n",
      "selection sort: [1, 2, 3, 5, 6, 25, 18, 13]\n",
      "selection sort: [1, 2, 3, 5, 6, 25, 18, 13]\n",
      "selection sort: [1, 2, 3, 5, 6, 25, 18, 13]\n",
      "selection sort: [1, 2, 3, 5, 6, 13, 25, 18]\n",
      "selection sort: [1, 2, 3, 5, 6, 13, 18, 25]\n",
      "None\n",
      "[1, 2, 3, 5, 6, 13, 18, 25]\n"
     ]
    }
   ],
   "source": [
    "#Look how the sorting works, step over step\n",
    "def selection_sort(L):\n",
    "    suffixSt = 0\n",
    "    while suffixSt != len(L): #O(len(L))\n",
    "        print('selection sort: '+str(L))\n",
    "        for i in range(suffixSt, len(L)): #O(len(L))\n",
    "            if L[i] < L[suffixSt]:\n",
    "                L[suffixSt], L[i] = L[i], L[suffixSt]\n",
    "        suffixSt += 1 \n",
    "\n",
    "testList = [1,3,5,2,6,25,18,13]\n",
    "\n",
    "print('')\n",
    "print(selection_sort(testList))\n",
    "print(testList)"
   ]
  },
  {
   "cell_type": "markdown",
   "id": "c27b0c78",
   "metadata": {},
   "source": [
    "### Merge Conquer\n",
    "- split list in half until have sublists of only 1 element\n",
    "- divide and conquer\n",
    "- check viz in notebook/ can't do it in jupyter\n",
    "- fastest sort algo\n",
    "    - judging by worse case"
   ]
  },
  {
   "cell_type": "markdown",
   "id": "7cf48614",
   "metadata": {},
   "source": [
    "### Merge Sublists step"
   ]
  },
  {
   "cell_type": "code",
   "execution_count": 7,
   "id": "000eeda3",
   "metadata": {},
   "outputs": [],
   "source": [
    "def merge(left,right):\n",
    "    result = []\n",
    "    i,j = 0,0\n",
    "    while i <len(left) and j < len(right):\n",
    "        if left[i] < right[j]:\n",
    "            result.append(left[i])\n",
    "            i +=1\n",
    "        else:\n",
    "            result.append(right[j])\n",
    "            j += 1\n",
    "    while (i< len(left)):\n",
    "        result.append(left[i])\n",
    "        i +=1\n",
    "    while (j <len(right)):\n",
    "        result.append(right[j])\n",
    "        j += 1\n",
    "    return result"
   ]
  },
  {
   "cell_type": "code",
   "execution_count": 8,
   "id": "a1cd2a0b",
   "metadata": {},
   "outputs": [],
   "source": [
    "#Example \n",
    "left = [3,4,5,8]\n",
    "right = [43,2,1]"
   ]
  },
  {
   "cell_type": "markdown",
   "id": "d39e2c30",
   "metadata": {},
   "source": [
    "## How do computational scientists think?\n",
    "- Abstraction\n",
    "    - Choosing the right abstractions\n",
    "- Automation\n",
    "    -how do we mechanize our abstractions \n",
    "- Algos\n",
    "    - How do i describe automation?\n",
    "- With any questions about these notes, contact Matt Mancuso @MancusoM33@gmail.com"
   ]
  }
 ],
 "metadata": {
  "kernelspec": {
   "display_name": "Python 3",
   "language": "python",
   "name": "python3"
  },
  "language_info": {
   "codemirror_mode": {
    "name": "ipython",
    "version": 3
   },
   "file_extension": ".py",
   "mimetype": "text/x-python",
   "name": "python",
   "nbconvert_exporter": "python",
   "pygments_lexer": "ipython3",
   "version": "3.7.4"
  }
 },
 "nbformat": 4,
 "nbformat_minor": 5
}
