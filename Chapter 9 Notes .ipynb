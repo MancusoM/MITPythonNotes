{
 "cells": [
  {
   "cell_type": "markdown",
   "id": "1da32fe6",
   "metadata": {},
   "source": [
    "# Chapter 9 Notes \n",
    "Link: https://ocw.mit.edu/courses/6-0001-introduction-to-computer-science-and-programming-in-python-fall-2016/resources/lecture-9-python-classes-and-inheritance/"
   ]
  },
  {
   "cell_type": "markdown",
   "id": "4ecf38a6",
   "metadata": {},
   "source": [
    "######  Implementing the class: \n",
    "    -implementing a new object type with a class\n",
    "    - define the class\n",
    "    -define data attributes (what is the object)\n",
    "    -define methods (how to use the object)\n",
    "\n",
    "###### Using the class:\n",
    "    - using the new object type in code \n",
    "    - create instances of the object type \n",
    "    - do operations with them "
   ]
  },
  {
   "cell_type": "markdown",
   "id": "f198bcb2",
   "metadata": {},
   "source": [
    "### Class Notes \n",
    "    - Class definition is of an object type: \n",
    "    - Class name is the type \n",
    "    - Class is defined generically \n",
    "    - Use self to refer to some instance while defining \n",
    "         - Self.x - self.y **2\n",
    "    - Self is a parameter to methods in class definitions\n",
    "    - Class defines data and methods common across all instances"
   ]
  },
  {
   "cell_type": "markdown",
   "id": "ae26a6f7",
   "metadata": {},
   "source": [
    "#### Instance of a class: \n",
    "    - Instance is one specific object\n",
    "        - Coord = Coordinate (1,2)\n",
    "    - Data attribute values vary between instances \n",
    "        -C1 = Coordinate (1,2)\n",
    "        -C2 = Coordinate (3,4)\n",
    "            - C1 and C2 have different data attribute value c1.x and c2.x because they are different objects\n",
    "        - Instance has the structure of the class\n",
    "##### Can use OOO to group objects that have similiar attributes\n",
    "    -data attributes: define what an object is\n",
    "    - procedural attributes (methods): what can it do, how to interact \n",
    "\n"
   ]
  },
  {
   "cell_type": "code",
   "execution_count": 26,
   "id": "6f91c706",
   "metadata": {},
   "outputs": [
    {
     "data": {
      "text/plain": [
       "3"
      ]
     },
     "execution_count": 26,
     "metadata": {},
     "output_type": "execute_result"
    }
   ],
   "source": [
    "#Defining a class \n",
    "\n",
    "class Animal (object):\n",
    "    def __init__(self,age):\n",
    "        #Getters and setters should be used outside of class to access data attributes\n",
    "        #Instantiation creates an instance of an object\n",
    "        self.age = age\n",
    "        self.name = None\n",
    "\n",
    "a = Animal (3)\n",
    "#dot notation used to access attributes (data and methods) though it is better to use getters and setters to access data attributes \n",
    "a.age"
   ]
  },
  {
   "cell_type": "markdown",
   "id": "ced0ad88",
   "metadata": {},
   "source": [
    "###### Information Hiding: \n",
    "    - Author of class defintion may change data attribute variable names \n",
    "##### Python not great at information hiding \n",
    "    - Allows you to access data from outside class defintion\n",
    "    - Allows you to write to data from outside class defintion\n",
    "    - A.age = 'infinite'\n",
    "    - Allows you to create data attributes for an instance from outside class definition\n",
    "    - A.size = 'tiny'\n",
    "    - It's not good style to do any of those "
   ]
  },
  {
   "cell_type": "code",
   "execution_count": 27,
   "id": "ba46ac9f",
   "metadata": {},
   "outputs": [],
   "source": [
    "class Animal(object):\n",
    "    def __init__(self,age):\n",
    "        self.years = age # changing age to years\n",
    "    def get_age(self):\n",
    "        return self.years "
   ]
  },
  {
   "cell_type": "markdown",
   "id": "b3a69c1e",
   "metadata": {},
   "source": [
    "##### Default arguments :\n",
    "    - Default arguments for formal parameters are used if not actual argument is given \n"
   ]
  },
  {
   "cell_type": "code",
   "execution_count": 28,
   "id": "431108ab",
   "metadata": {},
   "outputs": [],
   "source": [
    "def set_name(self, newname = ''):\n",
    "    '''\n",
    "    default argument here \n",
    "    '''\n",
    "    self.name = newname\n",
    "    a = Animal(3)\n",
    "    a.set_name('fluffy')\n",
    "    return print(a.get_name())\n",
    "#output = fluffy\n",
    "#argument passed in is used here"
   ]
  },
  {
   "cell_type": "code",
   "execution_count": 29,
   "id": "2ad2197d",
   "metadata": {},
   "outputs": [],
   "source": [
    "class Animal(object): #Parent class\n",
    "    def __init__(self,age):\n",
    "        self.age = age\n",
    "        self.name = None\n",
    "    def get_age(self):\n",
    "        return self.age\n",
    "    def get_name(self):\n",
    "        return self.name\n",
    "    def set_age(self,newage):\n",
    "        self.age = newage\n",
    "    def set_name(self, newname =''):\n",
    "        self.name = newname\n",
    "    def __str__(self):\n",
    "        return 'animal' + str(self.name) +':' + str(self.age)\n",
    "class Cat(Animal):\n",
    "     def speak(self):\n",
    "       print('meow')\n",
    "     def __str__(self):\n",
    "        return 'cat:' + str(self.name)+ ':' + str(self.age)\n",
    "        #add new functionality with speak\n",
    "        #instance of type Cat can be called with new methods\n",
    "        #instance of type Animal throws errors if called with Cat's new method\n",
    "        #__init__ is not missing, uses the animal version(parent class)"
   ]
  },
  {
   "cell_type": "code",
   "execution_count": 30,
   "id": "fc2017a6",
   "metadata": {},
   "outputs": [
    {
     "name": "stdout",
     "output_type": "stream",
     "text": [
      "\n",
      "----- person tests----\n",
      "jack\n",
      "30\n",
      "jill\n",
      "25\n",
      "person:jack:30\n",
      "hello\n",
      "5 year difference\n"
     ]
    }
   ],
   "source": [
    "class Person(Animal): # parent class \n",
    "    def __init__(self,name,age):\n",
    "        Animal.__init__(self,age) # Call animal constructor \n",
    "        self.set_name(name)\n",
    "        self.friends =[] #list of friends, attribute \n",
    "    def get_friends(self):\n",
    "        '''\n",
    "        The next four functions are new methods\n",
    "        '''\n",
    "        return self.friends\n",
    "    def add_friend(self,fname):\n",
    "        if fname not in self.friends:\n",
    "            self.friends.append(fname)\n",
    "    def speak(self):\n",
    "        print('hello')\n",
    "    def age_diff(self,other):\n",
    "        diff = self.age -other.age\n",
    "        print(abs(diff), 'year difference')\n",
    "    def __str__(self):\n",
    "        return 'person:' +str(self.name) +\":\" + str(self.age)\n",
    "print ('\\n----- person tests----')\n",
    "p1 = Person('jack',30)\n",
    "p2 = Person('jill',25)\n",
    "\n",
    "print(p1.get_name())\n",
    "print(p1.get_age())\n",
    "print(p2.get_name())\n",
    "print(p2.get_age())\n",
    "print(p1)\n",
    "p1.speak()\n",
    "p1.age_diff(p2)"
   ]
  },
  {
   "cell_type": "code",
   "execution_count": 31,
   "id": "92f08c48",
   "metadata": {},
   "outputs": [],
   "source": [
    "import random\n",
    "\n",
    "class Student(Person): #inherits person and animal attributes\n",
    "    def __init__(self,name,age,major = None):\n",
    "        Person.__init__(self,name,age)\n",
    "        self.major = major\n",
    "    def change_major(self,major):\n",
    "        self.major = major #adds new data \n",
    "    def speak(self):\n",
    "        r = random.random() #gives back a num in [0,1]\n",
    "        if r < 0.25:\n",
    "            print('I have hw')\n",
    "        elif 0.25 <= r < 0.5:\n",
    "            print ('i need to sleep')\n",
    "        elif 0.5 <= r <= 0.75:\n",
    "            print('I should eat')\n",
    "        else:\n",
    "            print('I am watching TV')\n",
    "    def __str__(self):\n",
    "        return 'student:' + str(self.name)+ \":\" + str(self.age)+\":\" + str(self.major)"
   ]
  },
  {
   "cell_type": "code",
   "execution_count": 32,
   "id": "896c4ad8",
   "metadata": {},
   "outputs": [
    {
     "name": "stdout",
     "output_type": "stream",
     "text": [
      "\n",
      "----- person tests----\n",
      "student:alice:20:CS\n",
      "student:beth:18:None\n",
      "alice says: I am watching TV\n",
      "beth says: i need to sleep\n"
     ]
    }
   ],
   "source": [
    "print ('\\n----- person tests----')\n",
    "s1 = Student('alice',20, \"CS\")\n",
    "s2 = Student('beth',18)\n",
    "print(s1)\n",
    "print(s2)\n",
    "print(s1.get_name(),'says:', end = ' ')\n",
    "s1.speak()\n",
    "print(s2.get_name(),'says:', end =' ')\n",
    "s2.speak()"
   ]
  },
  {
   "cell_type": "code",
   "execution_count": 33,
   "id": "3e2eed3e",
   "metadata": {},
   "outputs": [],
   "source": [
    "#Inheritance\n",
    "\n",
    "#class variables and their values are shared between all instances of a class \n",
    "\n",
    "class Rabbit(Animal):\n",
    "    tag = 1\n",
    "    def __init__(self,age, parent1 = None, parent2 = None):\n",
    "        Animal.__init__(self,age)\n",
    "        self.parent1 = parent1\n",
    "        self.parent2 = parent2\n",
    "        self.rid = Rabbit.tag\n",
    "        Rabbit.tag += 1\n",
    "        #tag used to give unique id to each new rabbit instance\n",
    "    def get_rid(self):\n",
    "        return str(self.rid).zfill(3) #method on a string to pad the beginning with zeros for example 001 not 1\n",
    "    def get_parent1(self):\n",
    "        return self.parent1\n",
    "    def get_parent2(self):\n",
    "        return self.parent2\n",
    "    def __add__(self,other):\n",
    "        #Returning object of same type as this class\n",
    "        return Rabbit(0,self,other)\n",
    "    def __eq__(self, other):\n",
    "        # compare the ids of self and other's parents\n",
    "        # don't care about the order of the parents\n",
    "        # the backslash tells python I want to break up my line\n",
    "        parents_same = self.parent1.rid == other.parent1.rid \\\n",
    "                       and self.parent2.rid == other.parent2.rid\n",
    "        parents_opposite = self.parent2.rid == other.parent1.rid \\\n",
    "                           and self.parent1.rid == other.parent2.rid\n",
    "        return parents_same or parents_opposite\n",
    "    def __str__(self):\n",
    "        return \"rabbit:\"+ self.get_rid()"
   ]
  },
  {
   "cell_type": "markdown",
   "id": "cd766195",
   "metadata": {},
   "source": [
    "###### define + operator between two Rabbit instances\n",
    "    - Define what something like this does r4= r1+r2\n",
    "    - Where r1 and r2 are Rabbit instances\n",
    "    - R4 is a new Rabbit instance with age 0 \n",
    "    - R4 has self as one parent and other as the other parent\n",
    "    - in __init__, parent1 and parent2 are of type Rabbit \n"
   ]
  },
  {
   "cell_type": "code",
   "execution_count": 34,
   "id": "685dc3b0",
   "metadata": {},
   "outputs": [
    {
     "name": "stdout",
     "output_type": "stream",
     "text": [
      "\n",
      "---- rabbit tests ----\n",
      "---- testing creating rabbits ----\n",
      "r1: rabbit:001\n",
      "r2: rabbit:002\n",
      "r4: rabbit:004\n",
      "r4 parent1: rabbit:001\n",
      "r4 parent2: rabbit:002\n",
      "----- testing rabbit equality\n",
      "r3: rabbit:003\n",
      "r4: rabbit:004\n",
      "r5: rabbit:005\n",
      "r6: rabbit:006\n",
      "r5 parent1: rabbit:003\n",
      "r5 parent2: rabbit:004\n",
      "r6 parent1: rabbit:004\n",
      "r6 parent2: rabbit:003\n",
      "r5 and r6 have same? True\n",
      "r4 and r6 have same? False\n"
     ]
    }
   ],
   "source": [
    "# ^The above function runs this table\n",
    "print(\"\\n---- rabbit tests ----\")\n",
    "print(\"---- testing creating rabbits ----\")\n",
    "r1 = Rabbit(3)\n",
    "r2 = Rabbit(4)\n",
    "r3 = Rabbit(5)\n",
    "\n",
    "r4 = r1+r2   # r1.__add__(r2)\n",
    "\n",
    "print(\"r1:\", r1)\n",
    "print(\"r2:\", r2)\n",
    "print(\"r4:\", r4)\n",
    "print(\"r4 parent1:\", r4.get_parent1())\n",
    "print(\"r4 parent2:\", r4.get_parent2())\n",
    "\n",
    "print('----- testing rabbit equality')\n",
    "r5 = r3 +r4\n",
    "r6 = r4 + r3\n",
    "print('r3:', r3)\n",
    "print('r4:', r4)\n",
    "print('r5:', r5)\n",
    "print('r6:', r6)\n",
    "print('r5 parent1:', r5.get_parent1())\n",
    "print('r5 parent2:', r5.get_parent2())\n",
    "print('r6 parent1:', r6.get_parent1())\n",
    "print('r6 parent2:', r6.get_parent2())\n",
    "print('r5 and r6 have same?', r5 ==r6)\n",
    "print('r4 and r6 have same?', r4 ==r6)"
   ]
  }
 ],
 "metadata": {
  "kernelspec": {
   "display_name": "Python 3",
   "language": "python",
   "name": "python3"
  },
  "language_info": {
   "codemirror_mode": {
    "name": "ipython",
    "version": 3
   },
   "file_extension": ".py",
   "mimetype": "text/x-python",
   "name": "python",
   "nbconvert_exporter": "python",
   "pygments_lexer": "ipython3",
   "version": "3.7.4"
  }
 },
 "nbformat": 4,
 "nbformat_minor": 5
}
