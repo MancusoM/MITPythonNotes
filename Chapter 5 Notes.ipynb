{
 "cells": [
  {
   "cell_type": "markdown",
   "id": "589329d9",
   "metadata": {},
   "source": [
    "# Chapter 5 Notes \n",
    "Link: https://ocw.mit.edu/courses/6-0001-introduction-to-computer-science-and-programming-in-python-fall-2016/resources/lecture-5-tuples-lists-aliasing-mutability-and-cloning/"
   ]
  },
  {
   "cell_type": "markdown",
   "id": "85497335",
   "metadata": {},
   "source": [
    "## Compound Data Types and their characteristics\n",
    "- Tuple\n",
    "    - immutable \n",
    "        - i.e t= (2)\n",
    "        - t[0] =2"
   ]
  },
  {
   "cell_type": "code",
   "execution_count": 83,
   "id": "0f3078fb",
   "metadata": {},
   "outputs": [],
   "source": [
    "#The below tests our different string sets and prints them \n",
    "t = (2, 'mit',3) + (5,6)"
   ]
  },
  {
   "cell_type": "code",
   "execution_count": 84,
   "id": "fd62e38c",
   "metadata": {},
   "outputs": [
    {
     "data": {
      "text/plain": [
       "('mit',)"
      ]
     },
     "execution_count": 84,
     "metadata": {},
     "output_type": "execute_result"
    }
   ],
   "source": [
    "t[1:2] #note the comma here, indicates that its a tuple with one element"
   ]
  },
  {
   "cell_type": "code",
   "execution_count": 85,
   "id": "80d434c7",
   "metadata": {},
   "outputs": [
    {
     "data": {
      "text/plain": [
       "'mit'"
      ]
     },
     "execution_count": 85,
     "metadata": {},
     "output_type": "execute_result"
    }
   ],
   "source": [
    "len(t)\n",
    "t[1]"
   ]
  },
  {
   "cell_type": "code",
   "execution_count": 86,
   "id": "1d447815",
   "metadata": {},
   "outputs": [
    {
     "ename": "TypeError",
     "evalue": "'tuple' object does not support item assignment",
     "output_type": "error",
     "traceback": [
      "\u001b[0;31m---------------------------------------------------------------------------\u001b[0m",
      "\u001b[0;31mTypeError\u001b[0m                                 Traceback (most recent call last)",
      "\u001b[0;32m<ipython-input-86-3c6c453c451c>\u001b[0m in \u001b[0;36m<module>\u001b[0;34m\u001b[0m\n\u001b[0;32m----> 1\u001b[0;31m \u001b[0mt\u001b[0m\u001b[0;34m[\u001b[0m\u001b[0;36m1\u001b[0m\u001b[0;34m]\u001b[0m \u001b[0;34m=\u001b[0m \u001b[0;36m4\u001b[0m \u001b[0;31m# equals an error because its immutatable\u001b[0m\u001b[0;34m\u001b[0m\u001b[0;34m\u001b[0m\u001b[0m\n\u001b[0m",
      "\u001b[0;31mTypeError\u001b[0m: 'tuple' object does not support item assignment"
     ]
    }
   ],
   "source": [
    "t[1] = 4 # equals an error because its immutatable "
   ]
  },
  {
   "cell_type": "code",
   "execution_count": 87,
   "id": "6265b018",
   "metadata": {},
   "outputs": [
    {
     "data": {
      "text/plain": [
       "(2, 1)"
      ]
     },
     "execution_count": 87,
     "metadata": {},
     "output_type": "execute_result"
    }
   ],
   "source": [
    "#Tuples are useful\n",
    "x = 1 \n",
    "y = 2\n",
    "(x,y) = (y,x) #switches the variable assignemnts\n",
    "x,y"
   ]
  },
  {
   "cell_type": "code",
   "execution_count": 88,
   "id": "21072641",
   "metadata": {},
   "outputs": [
    {
     "name": "stdout",
     "output_type": "stream",
     "text": [
      "0 4\n"
     ]
    }
   ],
   "source": [
    "def quotient_and_remainder(x,y):\n",
    "    '''\n",
    "    Args: \n",
    "        x, int \n",
    "        y, int \n",
    "    Returns: \n",
    "        Quiotent: q \n",
    "        Remainder: r\n",
    "    '''\n",
    "    q = x//y # // means quiotent is only a whole number\n",
    "    r = x % y\n",
    "    return (q,r)\n",
    "(quot,rem) = quotient_and_remainder(4,5)\n",
    "print(quot,rem)"
   ]
  },
  {
   "cell_type": "code",
   "execution_count": 89,
   "id": "9e0070dc",
   "metadata": {},
   "outputs": [],
   "source": [
    "aTuple = ((),(),())\n",
    "def get_data(aTuple):\n",
    "    '''\n",
    "    Args: a blank tuple, made out of 3 sets \n",
    "    \n",
    "    returns: the assignment of variables (a,b,&c) that are assigned in the test variables,\n",
    "        -a is the minumum of the trio of inputs \n",
    "        -b is the max of the trio of inputs \n",
    "        -c is the amount of unique numbers in the tuple\n",
    "    '''\n",
    "    nums = ()\n",
    "    words = ()\n",
    "    for t in aTuple:\n",
    "        nums = nums + (t[0],)\n",
    "        if t[1] not in words:\n",
    "            words = words + (t[1],)\n",
    "    min_n = min(nums)\n",
    "    max_n = max(nums)\n",
    "    unique_words = len(words)\n",
    "    return (min_n, max_n,unique_words)"
   ]
  },
  {
   "cell_type": "code",
   "execution_count": 90,
   "id": "332b87a1",
   "metadata": {},
   "outputs": [
    {
     "name": "stdout",
     "output_type": "stream",
     "text": [
      "a: 1 b: 7 c: 2\n"
     ]
    }
   ],
   "source": [
    "test =((1,'a'),(2,'b'),(1,'a'),(7,'b'))\n",
    "(a,b,c) = get_data(test)\n",
    "print('a:',a,'b:',b,'c:',c)"
   ]
  },
  {
   "cell_type": "code",
   "execution_count": 91,
   "id": "d1c04def",
   "metadata": {},
   "outputs": [
    {
     "name": "stdout",
     "output_type": "stream",
     "text": [
      "From 2014 to 2014 Taylor Swift wrote songs about 2 people\n"
     ]
    }
   ],
   "source": [
    "tswift = ((2014,'Katy'),\n",
    "          (2014,'Harry',\n",
    "           2012,'Jake',\n",
    "           2010,'Taylor',\n",
    "           2008,'Joe'))\n",
    "(min_year,max_year, num_people) = get_data(tswift)\n",
    "\n",
    "'''\n",
    "Running the same definition to check how many songs Swift wrote about certain people in 2014. \n",
    "\n",
    "Can be altered to change a,b,c to min_year,max_year, & num_people \n",
    "\n",
    "'''\n",
    "print(\"From\", min_year,'to',max_year,\"Taylor Swift wrote songs about\", num_people, 'people')"
   ]
  },
  {
   "cell_type": "markdown",
   "id": "1e63553e",
   "metadata": {},
   "source": [
    "# Lists\n",
    "- mututable"
   ]
  },
  {
   "cell_type": "code",
   "execution_count": 92,
   "id": "68b3cd14",
   "metadata": {},
   "outputs": [],
   "source": [
    "#Below are an example of lists\n",
    "a_list =[]\n",
    "L = [2,'a',4,[1,2]]"
   ]
  },
  {
   "cell_type": "code",
   "execution_count": 93,
   "id": "5f6cddcd",
   "metadata": {},
   "outputs": [
    {
     "data": {
      "text/plain": [
       "4"
      ]
     },
     "execution_count": 93,
     "metadata": {},
     "output_type": "execute_result"
    }
   ],
   "source": [
    "#length of the list\n",
    "len(L)"
   ]
  },
  {
   "cell_type": "code",
   "execution_count": 94,
   "id": "88fd2fc0",
   "metadata": {},
   "outputs": [
    {
     "data": {
      "text/plain": [
       "2"
      ]
     },
     "execution_count": 94,
     "metadata": {},
     "output_type": "execute_result"
    }
   ],
   "source": [
    "L[0]"
   ]
  },
  {
   "cell_type": "code",
   "execution_count": 95,
   "id": "87435d01",
   "metadata": {},
   "outputs": [
    {
     "data": {
      "text/plain": [
       "5"
      ]
     },
     "execution_count": 95,
     "metadata": {},
     "output_type": "execute_result"
    }
   ],
   "source": [
    "L[2] +1"
   ]
  },
  {
   "cell_type": "code",
   "execution_count": 96,
   "id": "a5f515f7",
   "metadata": {},
   "outputs": [
    {
     "data": {
      "text/plain": [
       "[1, 2]"
      ]
     },
     "execution_count": 96,
     "metadata": {},
     "output_type": "execute_result"
    }
   ],
   "source": [
    "L[3]"
   ]
  },
  {
   "cell_type": "code",
   "execution_count": 97,
   "id": "a56ed23f",
   "metadata": {},
   "outputs": [
    {
     "ename": "IndexError",
     "evalue": "list index out of range",
     "output_type": "error",
     "traceback": [
      "\u001b[0;31m---------------------------------------------------------------------------\u001b[0m",
      "\u001b[0;31mIndexError\u001b[0m                                Traceback (most recent call last)",
      "\u001b[0;32m<ipython-input-97-53ad7f26ac38>\u001b[0m in \u001b[0;36m<module>\u001b[0;34m\u001b[0m\n\u001b[0;32m----> 1\u001b[0;31m \u001b[0mL\u001b[0m\u001b[0;34m[\u001b[0m\u001b[0;36m4\u001b[0m\u001b[0;34m]\u001b[0m \u001b[0;31m#error, there are not 4 values in the list\u001b[0m\u001b[0;34m\u001b[0m\u001b[0;34m\u001b[0m\u001b[0m\n\u001b[0m",
      "\u001b[0;31mIndexError\u001b[0m: list index out of range"
     ]
    }
   ],
   "source": [
    "L[4] #error, there are not 4 values in the list "
   ]
  },
  {
   "cell_type": "code",
   "execution_count": 98,
   "id": "e84294bd",
   "metadata": {},
   "outputs": [
    {
     "data": {
      "text/plain": [
       "'a'"
      ]
     },
     "execution_count": 98,
     "metadata": {},
     "output_type": "execute_result"
    }
   ],
   "source": [
    "i =2\n",
    "L[i-1] #pulls L[1]"
   ]
  },
  {
   "cell_type": "code",
   "execution_count": 99,
   "id": "b5aca46a",
   "metadata": {},
   "outputs": [
    {
     "data": {
      "text/plain": [
       "[2, 5, 3]"
      ]
     },
     "execution_count": 99,
     "metadata": {},
     "output_type": "execute_result"
    }
   ],
   "source": [
    "#Changing a List, not allowed with tuples\n",
    "K = [2,1,3]\n",
    "K[1] =5\n",
    "K"
   ]
  },
  {
   "cell_type": "code",
   "execution_count": 100,
   "id": "b6841995",
   "metadata": {},
   "outputs": [
    {
     "name": "stdout",
     "output_type": "stream",
     "text": [
      "4\n"
     ]
    }
   ],
   "source": [
    "#Iterating over a list \n",
    "total = 0\n",
    "for i in L:\n",
    "    total +=1\n",
    "print (total)"
   ]
  },
  {
   "cell_type": "code",
   "execution_count": 101,
   "id": "175e335e",
   "metadata": {},
   "outputs": [
    {
     "data": {
      "text/plain": [
       "[2, 1, 3, 5]"
      ]
     },
     "execution_count": 101,
     "metadata": {},
     "output_type": "execute_result"
    }
   ],
   "source": [
    "L = [2,1,3]\n",
    "L.append(5) #adding 5 to the end \n",
    "L"
   ]
  },
  {
   "cell_type": "code",
   "execution_count": 102,
   "id": "7184de53",
   "metadata": {},
   "outputs": [
    {
     "data": {
      "text/plain": [
       "[2, 1, 3, 4, 5, 6]"
      ]
     },
     "execution_count": 102,
     "metadata": {},
     "output_type": "execute_result"
    }
   ],
   "source": [
    "#Adding two lists together \n",
    "L1 = [2,1,3]\n",
    "L2 = [4,5,6]\n",
    "L3 = L1 + L2\n",
    "L3"
   ]
  },
  {
   "cell_type": "code",
   "execution_count": 103,
   "id": "cf3f4d94",
   "metadata": {},
   "outputs": [
    {
     "data": {
      "text/plain": [
       "[2, 1, 3, 0, 6]"
      ]
     },
     "execution_count": 103,
     "metadata": {},
     "output_type": "execute_result"
    }
   ],
   "source": [
    "#Extending L1 to include 0,6 to the end \n",
    "L1.extend([0,6])\n",
    "L1"
   ]
  },
  {
   "cell_type": "code",
   "execution_count": 104,
   "id": "75fa11d8",
   "metadata": {},
   "outputs": [
    {
     "data": {
      "text/plain": [
       "[2, 1, 0, 6]"
      ]
     },
     "execution_count": 104,
     "metadata": {},
     "output_type": "execute_result"
    }
   ],
   "source": [
    "#Altering L1 to exclude 3\n",
    "L1.remove(3)\n",
    "L1"
   ]
  },
  {
   "cell_type": "code",
   "execution_count": 105,
   "id": "e6aa7a03",
   "metadata": {},
   "outputs": [
    {
     "data": {
      "text/plain": [
       "[1, 3, 6, 3, 7, 0]"
      ]
     },
     "execution_count": 105,
     "metadata": {},
     "output_type": "execute_result"
    }
   ],
   "source": [
    "L = [2,1,3,6,3,7,0]\n",
    "L.remove(2) # look for an element of 2 and remove it \n",
    "L"
   ]
  },
  {
   "cell_type": "code",
   "execution_count": 106,
   "id": "1133c691",
   "metadata": {},
   "outputs": [
    {
     "data": {
      "text/plain": [
       "[1, 6, 3, 7, 0]"
      ]
     },
     "execution_count": 106,
     "metadata": {},
     "output_type": "execute_result"
    }
   ],
   "source": [
    "#Removing all 3's from L\n",
    "L.remove(3)\n",
    "L"
   ]
  },
  {
   "cell_type": "code",
   "execution_count": 107,
   "id": "3b451210",
   "metadata": {},
   "outputs": [
    {
     "data": {
      "text/plain": [
       "[1, 3, 7, 0]"
      ]
     },
     "execution_count": 107,
     "metadata": {},
     "output_type": "execute_result"
    }
   ],
   "source": [
    "#Removing the second value of L\n",
    "del(L[1])\n",
    "L"
   ]
  },
  {
   "cell_type": "code",
   "execution_count": 108,
   "id": "224f8011",
   "metadata": {},
   "outputs": [
    {
     "data": {
      "text/plain": [
       "[1, 3, 7]"
      ]
     },
     "execution_count": 108,
     "metadata": {},
     "output_type": "execute_result"
    }
   ],
   "source": [
    "L.pop() #deletes element furthest to right\n",
    "L"
   ]
  },
  {
   "cell_type": "code",
   "execution_count": 109,
   "id": "45baf458",
   "metadata": {},
   "outputs": [],
   "source": [
    "s = \"I<3 cs\""
   ]
  },
  {
   "cell_type": "code",
   "execution_count": 110,
   "id": "c1b33f9b",
   "metadata": {},
   "outputs": [
    {
     "data": {
      "text/plain": [
       "['I', '<', '3', ' ', 'c', 's']"
      ]
     },
     "execution_count": 110,
     "metadata": {},
     "output_type": "execute_result"
    }
   ],
   "source": [
    "#Splits string into a list\n",
    "list(s)"
   ]
  },
  {
   "cell_type": "code",
   "execution_count": 111,
   "id": "3089b1a6",
   "metadata": {},
   "outputs": [
    {
     "data": {
      "text/plain": [
       "['I', '3 cs']"
      ]
     },
     "execution_count": 111,
     "metadata": {},
     "output_type": "execute_result"
    }
   ],
   "source": [
    "#Splits s on the <\n",
    "s.split('<')"
   ]
  },
  {
   "cell_type": "code",
   "execution_count": 112,
   "id": "e3355621",
   "metadata": {},
   "outputs": [
    {
     "data": {
      "text/plain": [
       "['a', 'b', 'c']"
      ]
     },
     "execution_count": 112,
     "metadata": {},
     "output_type": "execute_result"
    }
   ],
   "source": [
    "L = ['a','b','c']\n",
    "L"
   ]
  },
  {
   "cell_type": "code",
   "execution_count": 113,
   "id": "580a5995",
   "metadata": {},
   "outputs": [
    {
     "data": {
      "text/plain": [
       "'abc'"
      ]
     },
     "execution_count": 113,
     "metadata": {},
     "output_type": "execute_result"
    }
   ],
   "source": [
    "#Joins the three values of the L list \n",
    "''.join(L)"
   ]
  },
  {
   "cell_type": "code",
   "execution_count": 114,
   "id": "f1c5e392",
   "metadata": {},
   "outputs": [
    {
     "data": {
      "text/plain": [
       "'a_b_c'"
      ]
     },
     "execution_count": 114,
     "metadata": {},
     "output_type": "execute_result"
    }
   ],
   "source": [
    "#Joins the three values of the L list with an _ between \n",
    "'_'.join(L)"
   ]
  },
  {
   "cell_type": "code",
   "execution_count": 115,
   "id": "f57106b7",
   "metadata": {},
   "outputs": [],
   "source": [
    "#Overwrites L to make new list L\n",
    "L = [9,6,0,3]"
   ]
  },
  {
   "cell_type": "code",
   "execution_count": 116,
   "id": "21077712",
   "metadata": {},
   "outputs": [
    {
     "data": {
      "text/plain": [
       "[9, 6, 0, 3]"
      ]
     },
     "execution_count": 116,
     "metadata": {},
     "output_type": "execute_result"
    }
   ],
   "source": [
    "# Notice how it doesn't sort \n",
    "sorted (L)\n",
    "L"
   ]
  },
  {
   "cell_type": "code",
   "execution_count": 117,
   "id": "6dc06ec6",
   "metadata": {},
   "outputs": [
    {
     "data": {
      "text/plain": [
       "[0, 3, 6, 9]"
      ]
     },
     "execution_count": 117,
     "metadata": {},
     "output_type": "execute_result"
    }
   ],
   "source": [
    "L.sort() #mutates L and sorts by numerical value \n",
    "L"
   ]
  },
  {
   "cell_type": "code",
   "execution_count": 118,
   "id": "23a546fa",
   "metadata": {},
   "outputs": [
    {
     "data": {
      "text/plain": [
       "[9, 6, 3, 0]"
      ]
     },
     "execution_count": 118,
     "metadata": {},
     "output_type": "execute_result"
    }
   ],
   "source": [
    "#Sorts L by reverse order \n",
    "L.reverse()\n",
    "L"
   ]
  },
  {
   "cell_type": "code",
   "execution_count": 119,
   "id": "0754c7a0",
   "metadata": {},
   "outputs": [
    {
     "name": "stdout",
     "output_type": "stream",
     "text": [
      "1\n",
      "1\n"
     ]
    }
   ],
   "source": [
    "# assigns variables to a & b and prints them \n",
    "a = 1\n",
    "b =a\n",
    "print(a)\n",
    "print (b)"
   ]
  },
  {
   "cell_type": "code",
   "execution_count": 120,
   "id": "1156cb1d",
   "metadata": {},
   "outputs": [
    {
     "name": "stdout",
     "output_type": "stream",
     "text": [
      "['red', 'orange', 'yellow', 'pink']\n",
      "['red', 'orange', 'yellow', 'pink']\n"
     ]
    }
   ],
   "source": [
    "#Creates variable warm, and duplicates the values to hot (same change) and adds pink to it. Prints them both, \n",
    "warm = ['red','orange','yellow']\n",
    "hot = warm\n",
    "hot.append('pink')\n",
    "print(hot)\n",
    "print(warm)"
   ]
  },
  {
   "cell_type": "code",
   "execution_count": 121,
   "id": "c9e09dcf",
   "metadata": {},
   "outputs": [
    {
     "name": "stdout",
     "output_type": "stream",
     "text": [
      "['blue', 'green', 'grey', 'black']\n",
      "['blue', 'green', 'grey']\n"
     ]
    }
   ],
   "source": [
    "#Creates a copy of cool called chill. Changes to Chill doesn't alter Cool. Prints them both \n",
    "cool = ['blue','green','grey']\n",
    "chill = cool[:]\n",
    "chill.append('black')\n",
    "print(chill)\n",
    "print(cool)"
   ]
  },
  {
   "cell_type": "code",
   "execution_count": 122,
   "id": "39b734b3",
   "metadata": {},
   "outputs": [
    {
     "name": "stdout",
     "output_type": "stream",
     "text": [
      "['orange', 'red', 'yellow']\n",
      "None\n"
     ]
    }
   ],
   "source": [
    "#warm.sort() returns None because it should be sorted(warm, as showed on the next block)\n",
    "warm = ['red','yellow','orange']\n",
    "sortedwarm = warm.sort()\n",
    "print(warm)\n",
    "print(sortedwarm)"
   ]
  },
  {
   "cell_type": "code",
   "execution_count": 123,
   "id": "59e2ee5d",
   "metadata": {},
   "outputs": [
    {
     "name": "stdout",
     "output_type": "stream",
     "text": [
      "['grey', 'green', 'blue']\n",
      "['blue', 'green', 'grey']\n"
     ]
    }
   ],
   "source": [
    "cool =['grey','green','blue']\n",
    "sortedcool= sorted(cool) #difference between none and sorted is this line \n",
    "print(cool)\n",
    "print(sortedcool)"
   ]
  },
  {
   "cell_type": "code",
   "execution_count": 124,
   "id": "d78fdc7c",
   "metadata": {},
   "outputs": [
    {
     "name": "stdout",
     "output_type": "stream",
     "text": [
      "[['yellow', 'orange'], ['red']]\n"
     ]
    }
   ],
   "source": [
    "warm = ['yellow', 'orange']\n",
    "hot =['red']\n",
    "brightcolors = [warm]\n",
    "brightcolors.append(hot)\n",
    "print(brightcolors)"
   ]
  },
  {
   "cell_type": "code",
   "execution_count": 72,
   "id": "a110da1f",
   "metadata": {},
   "outputs": [
    {
     "name": "stdout",
     "output_type": "stream",
     "text": [
      "['red', 'pink']\n",
      "[['yellow', 'orange'], ['red', 'pink']]\n"
     ]
    }
   ],
   "source": [
    "#hot and brightcolors are two seperate tuples\n",
    "hot.append('pink')\n",
    "print (hot)\n",
    "print (brightcolors)"
   ]
  },
  {
   "cell_type": "code",
   "execution_count": 76,
   "id": "23d3f35f",
   "metadata": {},
   "outputs": [],
   "source": [
    "L1 = [2,3,4]\n",
    "L2 = [1,2,5]\n",
    "def remove_dups(L1,L2):\n",
    "    L1_copy = L1[:]\n",
    "    for e in L1_copy:\n",
    "        if e in L2:\n",
    "            L1.remove(e)\n",
    "#Returns None because there is no return command"
   ]
  }
 ],
 "metadata": {
  "kernelspec": {
   "display_name": "Python 3",
   "language": "python",
   "name": "python3"
  },
  "language_info": {
   "codemirror_mode": {
    "name": "ipython",
    "version": 3
   },
   "file_extension": ".py",
   "mimetype": "text/x-python",
   "name": "python",
   "nbconvert_exporter": "python",
   "pygments_lexer": "ipython3",
   "version": "3.7.4"
  }
 },
 "nbformat": 4,
 "nbformat_minor": 5
}
