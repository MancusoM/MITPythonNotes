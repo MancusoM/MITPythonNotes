{
 "cells": [
  {
   "cell_type": "markdown",
   "id": "b0eac94d",
   "metadata": {},
   "source": [
    "# Chapter 10 \n",
    "Link: https://ocw.mit.edu/courses/6-0001-introduction-to-computer-science-and-programming-in-python-fall-2016/resources/lecture-10-understanding-program-efficiency-part-1/"
   ]
  },
  {
   "cell_type": "markdown",
   "id": "d4274bb0",
   "metadata": {},
   "source": [
    "##### What to understand about the efficiency of programs \n",
    "\n",
    "- how can we reason about an algorithm in order to predict the amount of time it will need to solve a problem of that particular size? \n",
    "\n",
    "- how can we relate choices in algorithim design to the time efficiency of the resulting algorithm?\n",
    "    - are there fundmental limits on the amount of time we will need to solve a particular problem? \n"
   ]
  },
  {
   "cell_type": "markdown",
   "id": "4c029800",
   "metadata": {},
   "source": [
    "### The Issue: how to calculate the best way to measure efficency?\n",
    "- space or time?"
   ]
  },
  {
   "cell_type": "markdown",
   "id": "6dda515a",
   "metadata": {},
   "source": [
    "##### First option: Timer\n",
    "\n",
    "\n",
    "- Abstract Notion of ORDER OF GROWTH\n",
    "    - will argue that this is the most app. way to assessing the impact of choices of algorithm in solving an program, and in measuring the inherent difficulty in solving a problem"
   ]
  },
  {
   "cell_type": "markdown",
   "id": "f00c28b6",
   "metadata": {},
   "source": [
    "#### Using a Time Module "
   ]
  },
  {
   "cell_type": "code",
   "execution_count": 7,
   "id": "b390544d",
   "metadata": {},
   "outputs": [
    {
     "name": "stdout",
     "output_type": "stream",
     "text": [
      "T = 1.270636 : 0.000114 seconds\n"
     ]
    }
   ],
   "source": [
    "import time \n",
    "\n",
    "def c_to_f(c):\n",
    "    return c*9/5 + 32\n",
    "t0 = time.process_time()\n",
    "c_to_f(100000)\n",
    "t1 = time.process_time() - t0\n",
    "print('T =', t0,':',round(t1,6),'seconds')"
   ]
  },
  {
   "cell_type": "markdown",
   "id": "063d04e6",
   "metadata": {},
   "source": [
    "#### Timing Programs is inconsistent\n",
    "###### Goal: to evaluate different algos\n",
    "\n",
    "- running time varies between algorithms\n",
    "- running time varies between implementations\n",
    "- running time varies between computers\n",
    "- running time is not predictable based on small inputs\n",
    "- time varies for different inputs, but cant express a relationship between inputs and time\n"
   ]
  },
  {
   "cell_type": "markdown",
   "id": "f2a63338",
   "metadata": {},
   "source": [
    "# Option 2: counting operations "
   ]
  },
  {
   "cell_type": "markdown",
   "id": "293cefa7",
   "metadata": {},
   "source": [
    "###### Assume these steps take constant time:\n",
    "    - Mathematical operations \n",
    "    - Comparisons\n",
    "    - Assignments\n",
    "    - Accessing objects in memory \n",
    "    - Then count the number of operations executed as a function of size of input\n"
   ]
  },
  {
   "cell_type": "code",
   "execution_count": 8,
   "id": "2d68c45e",
   "metadata": {},
   "outputs": [
    {
     "data": {
      "text/plain": [
       "6"
      ]
     },
     "execution_count": 8,
     "metadata": {},
     "output_type": "execute_result"
    }
   ],
   "source": [
    "def c_to_f(c):\n",
    "    return c*9.0/5 +32\n",
    "\n",
    "def mysum(x):\n",
    "    total = 0\n",
    "    for i in range(x+1):\n",
    "        total += i\n",
    "    return total\n",
    "mysum(3)\n",
    "#1 + 3x operations maybe?"
   ]
  },
  {
   "cell_type": "markdown",
   "id": "8e64c333",
   "metadata": {},
   "source": [
    "###### Counting Operations is better, but still\n",
    "    - Goal is to evaluate different algorithms \n",
    "    - Count depends on algo\n",
    "    - Count depends on implementations \n",
    "    - Count independent of computers\n",
    "    - No clear definition of which operations to count \n",
    "    - Count varies for different inputs and can come up with a relationship between inputs and counts"
   ]
  },
  {
   "cell_type": "markdown",
   "id": "699dca7c",
   "metadata": {},
   "source": [
    "\n",
    "###### The question still stands: What happens if I scale the algo?\n",
    "- Different Inputs change how the program runs:\n",
    "    - a function that searches for an element in a list\n",
    "    "
   ]
  },
  {
   "cell_type": "code",
   "execution_count": 9,
   "id": "9b697a3f",
   "metadata": {},
   "outputs": [],
   "source": [
    "#search L list for element e\n",
    "def search_for_elmt(L,e):\n",
    "    for i in L:\n",
    "        if i==e:\n",
    "            return True\n",
    "    return False"
   ]
  },
  {
   "cell_type": "markdown",
   "id": "af415bac",
   "metadata": {},
   "source": [
    "#### Best, average, and worst cases: \n",
    "        -If you are given a list L of some length len(L)\n",
    "\n",
    "###### Best case: min running time overall possible inputs of a given size, len(L)\n",
    "    - Constant for search_for_elmt\n",
    "    - First element in any list\n",
    "\n",
    "###### Average case: average runnign tiem over all possible inputs of a given size, len(L)\n",
    "    - Practical measure\n",
    "\n",
    "##### Worst case: max runnign time overall possible inputs of given size, len(L)\n",
    "    -Linear in length of list for search_for_elmt\n",
    "    -Must search entire list and not find it\n",
    "    -Want to focus on this"
   ]
  },
  {
   "cell_type": "markdown",
   "id": "7f54c60b",
   "metadata": {},
   "source": [
    "# Big O Notation"
   ]
  },
  {
   "cell_type": "code",
   "execution_count": 10,
   "id": "ec70938e",
   "metadata": {},
   "outputs": [
    {
     "name": "stdout",
     "output_type": "stream",
     "text": [
      "24\n"
     ]
    }
   ],
   "source": [
    "#Exact Steps vs O Notation\n",
    "\n",
    "def fact_iter(n):\n",
    "    '''\n",
    "    Assumes n is an int >= 0 \n",
    "    \n",
    "    Computes Factorial\n",
    "    number of steps: \n",
    "\n",
    "    Worst-case asymptomic complexity: \n",
    "        - ignore additive constraints\n",
    "        - ignore multiplicative constraints\n",
    "    '''\n",
    "    answer = 1\n",
    "    while n > 1:\n",
    "        answer *= n\n",
    "        n -=1 \n",
    "    return answer\n",
    "\n",
    "print(fact_iter(4))"
   ]
  },
  {
   "cell_type": "markdown",
   "id": "f26587c6",
   "metadata": {},
   "source": [
    "##### Simplification examples: \n",
    "    - drop constants and multiplicative values\n",
    "    - focus on dominant terms \n",
    "\n",
    "### Different types of Big O Notation\n",
    "- n^2 + 2n +2; dominant terms = n^2 = order n^2 #quadratic \n",
    "- n^2 + 100000n + 3^1000; dominant terms = n^2 = order n^2 #quadratic \n",
    "- log(n) + n +4; dominant terms = n = order n\n",
    "- 0.0001*n*log(n) + 300n; dominant terms = n * log(n) = order n * log(n)\n",
    "- 2n^30 + 3^n; dominant terms = 3^n = order 3^n\n"
   ]
  },
  {
   "cell_type": "markdown",
   "id": "8cf6094b",
   "metadata": {},
   "source": [
    "###### Combine complexity classes\n",
    "    - analyze statements inside functions \n",
    "    - apply some rules, focus on dominant terms \n",
    "\n",
    "###### Law of addition for O():\n",
    "    - used with sequential statements \n",
    "    - O(f(n)) + O(g(n)) is O(f(n) + g(n))"
   ]
  },
  {
   "cell_type": "code",
   "execution_count": 11,
   "id": "d2b8f6da",
   "metadata": {},
   "outputs": [
    {
     "name": "stdout",
     "output_type": "stream",
     "text": [
      "a\n",
      "a\n",
      "a\n",
      "b\n",
      "b\n",
      "b\n",
      "b\n",
      "b\n",
      "b\n",
      "b\n",
      "b\n",
      "b\n"
     ]
    }
   ],
   "source": [
    "n = (3)\n",
    "for i in range(n):\n",
    "    print ('a')\n",
    "for j in range(n*n):\n",
    "    print ('b')\n",
    "#is O(n) + O(n*n) - O(n+n^2) - O(n)^2 because of a dominant term"
   ]
  },
  {
   "cell_type": "markdown",
   "id": "1140656f",
   "metadata": {},
   "source": [
    "###### Law of Multiplication for O( ):\n",
    "    - used with nested statements \n",
    "    - O(f(n)) * O(g(n)) is O(f(n) * g(n))"
   ]
  },
  {
   "cell_type": "code",
   "execution_count": 12,
   "id": "86cada26",
   "metadata": {},
   "outputs": [
    {
     "name": "stdout",
     "output_type": "stream",
     "text": [
      "a\n",
      "a\n",
      "a\n",
      "a\n",
      "a\n",
      "a\n",
      "a\n",
      "a\n",
      "a\n"
     ]
    }
   ],
   "source": [
    "for i in range(n):\n",
    "    for j in range(n):\n",
    "        print ('a')\n",
    "#Is O(n)* O(n) = O(n^2) because the outer loop goes n times and the inner loop goes n times for every outer loop"
   ]
  },
  {
   "cell_type": "markdown",
   "id": "9023fcdc",
   "metadata": {},
   "source": [
    "##### Complexity Classes\n",
    "- O(1): denotes constant running time \n",
    "- O(log n): denotes log running time \n",
    "- O(n): denotes linear running times \n",
    "- O(n log n): denotes long-linear runnig time \n",
    "- O(n^c): denotes polynomial running time (c is a constant)\n",
    "- Oo(c^n): denotes exponential running time (c is a constant, raised to the power based on size of input)"
   ]
  },
  {
   "cell_type": "markdown",
   "id": "8ddd1326",
   "metadata": {},
   "source": [
    "##### When designing algos, you wanna be AS SIMPLE AS POSSIBLE\n",
    "\n",
    "###### Linear Search of an unsorted list below:"
   ]
  },
  {
   "cell_type": "code",
   "execution_count": 13,
   "id": "23a31958",
   "metadata": {},
   "outputs": [],
   "source": [
    "def linear_search(L,e):\n",
    "    found = False\n",
    "    for i in range(len(L)):\n",
    "        if e == L[i]:\n",
    "            found = True \n",
    "    return Found \n",
    "#Problem: must look through all elements to determine if its not there, order n, n = length of list, not very efficient"
   ]
  },
  {
   "cell_type": "code",
   "execution_count": 14,
   "id": "c6a69769",
   "metadata": {},
   "outputs": [],
   "source": [
    "#Linear Search in Sorted Lost \n",
    "\n",
    "def search (L,e):\n",
    "    '''\n",
    "    must look until reach a number greater than e \n",
    "    O(len(L)) for the loop * O(1) to test if e==L[i]\n",
    "    overall complexity is o(n) - where n is len(L)\n",
    "    note: order of growth is same, though run time may differ based on search methods\n",
    "    '''\n",
    "    for i in range(len(L)):\n",
    "        if L[i] == e:\n",
    "            return True\n",
    "        if L[i] > len(L):\n",
    "            return False\n",
    "    return False\n"
   ]
  },
  {
   "cell_type": "code",
   "execution_count": 15,
   "id": "5c4413c1",
   "metadata": {},
   "outputs": [
    {
     "name": "stdout",
     "output_type": "stream",
     "text": [
      "9\n"
     ]
    }
   ],
   "source": [
    "def addDigits(s):\n",
    "    '''\n",
    "    Linear Complexity: \n",
    "        -searching a list in sequence to see if an element is present \n",
    "        -add characters of a string, assumed to be composed of decimal digits\n",
    "    '''\n",
    "    val = 0\n",
    "    for c in s:\n",
    "        val += int(c)\n",
    "    return val\n",
    "\n",
    "s = [2,3,4]\n",
    "print(addDigits(s))"
   ]
  },
  {
   "cell_type": "code",
   "execution_count": 16,
   "id": "ea6d650d",
   "metadata": {},
   "outputs": [],
   "source": [
    "def fact_iter(n):\n",
    "    #number of times around loop is n\n",
    "    prod = 1\n",
    "    for i in range(1, n+1):\n",
    "        prod *= i\n",
    "    return prod"
   ]
  },
  {
   "cell_type": "markdown",
   "id": "b45e2d52",
   "metadata": {},
   "source": [
    "###### Quadratic Complexity:  determine if one list is subset of a second list, i.e. every element of first, appears in second (assume no duplicates)"
   ]
  },
  {
   "cell_type": "code",
   "execution_count": 17,
   "id": "4213d7a4",
   "metadata": {},
   "outputs": [],
   "source": [
    "def isSubset(L1,L2): #outer loop executed len(L1) times\n",
    "    for el in L1: \n",
    "        matched = False\n",
    "        for e2 in L2:\n",
    "            if e1 == e2:\n",
    "                matched = True\n",
    "                break\n",
    "        if not matched:\n",
    "            return False\n",
    "    return True"
   ]
  },
  {
   "cell_type": "code",
   "execution_count": 18,
   "id": "af2e8b38",
   "metadata": {},
   "outputs": [],
   "source": [
    "#Intersection of two lists, two quadratic:\n",
    "def intersect(L1, L2):\n",
    "    tmp = []\n",
    "    for el in L1: #The first nested loop takes len(L1) * len(L2) steps \n",
    "        for e2 in L2: #The second loop takes at most len(L1) steps \n",
    "            if e1 ==e2:\n",
    "                tmp.append(e1) #determining if element in list might take len(L) steps\n",
    "    \n",
    "    res =[]\n",
    "    for e in tmp:\n",
    "        if not (e in res):\n",
    "            res.append(e)\n",
    "    return res"
   ]
  }
 ],
 "metadata": {
  "kernelspec": {
   "display_name": "Python 3",
   "language": "python",
   "name": "python3"
  },
  "language_info": {
   "codemirror_mode": {
    "name": "ipython",
    "version": 3
   },
   "file_extension": ".py",
   "mimetype": "text/x-python",
   "name": "python",
   "nbconvert_exporter": "python",
   "pygments_lexer": "ipython3",
   "version": "3.7.4"
  }
 },
 "nbformat": 4,
 "nbformat_minor": 5
}
