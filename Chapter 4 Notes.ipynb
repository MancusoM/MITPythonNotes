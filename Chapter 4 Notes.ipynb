{
 "cells": [
  {
   "cell_type": "markdown",
   "id": "c15f532c",
   "metadata": {},
   "source": [
    "# Chapter 4 \n",
    "##### Chapter 4 doesn't contain all of the on-screen notes \n",
    "##### Link: https://ocw.mit.edu/courses/6-0001-introduction-to-computer-science-and-programming-in-python-fall-2016/resources/lecture-4-decomposition-abstraction-and-functions/"
   ]
  },
  {
   "cell_type": "markdown",
   "id": "9adf2949",
   "metadata": {},
   "source": [
    "#### Definitions\n",
    "- Decomposition: different devices work to achieve a common goal (different inputs to a projector)\n",
    "- Abstraction: Don't need to know how it works to know how to use it \n",
    "- Functions have a name, parametters, docstring, body, returns something"
   ]
  },
  {
   "cell_type": "code",
   "execution_count": 2,
   "id": "bffb8e80",
   "metadata": {},
   "outputs": [
    {
     "name": "stdout",
     "output_type": "stream",
     "text": [
      "inside is_even\n"
     ]
    },
    {
     "data": {
      "text/plain": [
       "False"
      ]
     },
     "execution_count": 2,
     "metadata": {},
     "output_type": "execute_result"
    }
   ],
   "source": [
    "def is_even(i):\n",
    "    '''\n",
    "    Input: i, a positive int \n",
    "    Returns True if I is even, otherwise False\n",
    "    Below is the body\n",
    "    '''\n",
    "    print(\"inside is_even\")\n",
    "    return i%2 ==0\n",
    "is_even(3)"
   ]
  },
  {
   "cell_type": "code",
   "execution_count": 3,
   "id": "98de37ad",
   "metadata": {},
   "outputs": [
    {
     "name": "stdout",
     "output_type": "stream",
     "text": [
      "in f(x): x= 4\n"
     ]
    }
   ],
   "source": [
    "#Global Scope of variable f(x)\n",
    "def f(x):\n",
    "    x=x+1\n",
    "    print('in f(x): x=',x)\n",
    "    return x\n",
    "x=3\n",
    "z= f(x)\n",
    "#End of Global Scope"
   ]
  },
  {
   "cell_type": "code",
   "execution_count": 2,
   "id": "9485cd2a",
   "metadata": {},
   "outputs": [
    {
     "name": "stdout",
     "output_type": "stream",
     "text": [
      "With Return\n"
     ]
    },
    {
     "data": {
      "text/plain": [
       "False"
      ]
     },
     "execution_count": 2,
     "metadata": {},
     "output_type": "execute_result"
    }
   ],
   "source": [
    "#Checks if 3 is even, returns False if 3 is even \n",
    "def is_even_with_return(i):\n",
    "    print('With Return')\n",
    "    remainder = i%2\n",
    "    return remainder ==0\n",
    "is_even_with_return(3) "
   ]
  },
  {
   "cell_type": "code",
   "execution_count": 5,
   "id": "62af2a3d",
   "metadata": {},
   "outputs": [
    {
     "name": "stdout",
     "output_type": "stream",
     "text": [
      "With Return\n",
      "Without return\n"
     ]
    }
   ],
   "source": [
    "#Returns the first is_even_with_return definition (see above block)\n",
    "#Returns the new is_even_without_return definition (answer is None because print statement doesn't read it correctly)\n",
    "    # Ways to fix is_even_without_return: remove print statement\n",
    "def is_even_without_return(i):\n",
    "    print(\"Without return\")\n",
    "    remainder = i % 2 \n",
    "    #Return None\n",
    "is_even_with_return(3)\n",
    "print(is_even_without_return(3))"
   ]
  },
  {
   "cell_type": "code",
   "execution_count": 6,
   "id": "d1f139cf",
   "metadata": {},
   "outputs": [
    {
     "name": "stdout",
     "output_type": "stream",
     "text": [
      "All numbers between 0:20, even or not\n",
      "inside is_even\n",
      "0 even\n",
      "inside is_even\n",
      "1 odd\n",
      "inside is_even\n",
      "2 even\n",
      "inside is_even\n",
      "3 odd\n",
      "inside is_even\n",
      "4 even\n",
      "inside is_even\n",
      "5 odd\n",
      "inside is_even\n",
      "6 even\n",
      "inside is_even\n",
      "7 odd\n",
      "inside is_even\n",
      "8 even\n",
      "inside is_even\n",
      "9 odd\n",
      "inside is_even\n",
      "10 even\n",
      "inside is_even\n",
      "11 odd\n",
      "inside is_even\n",
      "12 even\n",
      "inside is_even\n",
      "13 odd\n",
      "inside is_even\n",
      "14 even\n",
      "inside is_even\n",
      "15 odd\n",
      "inside is_even\n",
      "16 even\n",
      "inside is_even\n",
      "17 odd\n",
      "inside is_even\n",
      "18 even\n",
      "inside is_even\n",
      "19 odd\n"
     ]
    }
   ],
   "source": [
    "#Returns a for loop that checks and returns if each number 0-20 is even or not \n",
    "print(\"All numbers between 0:20, even or not\")\n",
    "for i in range(20):\n",
    "    if is_even(i):\n",
    "        print(i,'even')\n",
    "    else:\n",
    "        print(i,\"odd\")"
   ]
  },
  {
   "cell_type": "code",
   "execution_count": 6,
   "id": "b67497e9",
   "metadata": {},
   "outputs": [
    {
     "name": "stdout",
     "output_type": "stream",
     "text": [
      "inside func_a\n",
      "inside func_b\n",
      "inside func_c\n",
      "inside func_a\n"
     ]
    }
   ],
   "source": [
    "def func_a():\n",
    "    print('inside func_a')\n",
    "def func_b(y):\n",
    "    print(\"inside func_b\")\n",
    "    return y\n",
    "def func_c(z):\n",
    "    print('inside func_c')\n",
    "    return z()\n",
    "func_a()\n",
    "5+ func_b(2)\n",
    "func_c(func_a)"
   ]
  },
  {
   "cell_type": "markdown",
   "id": "9eb5c314",
   "metadata": {},
   "source": [
    "Answer to Above:\n",
    "\n",
    "    -func_a() runs as normal\n",
    "    -func_b() runs as normal\n",
    "    -func_c returns both function a and function c"
   ]
  },
  {
   "cell_type": "markdown",
   "id": "9613fa76",
   "metadata": {},
   "source": [
    "Important Resource: Pythontutor.com"
   ]
  },
  {
   "cell_type": "code",
   "execution_count": 7,
   "id": "e5632f46",
   "metadata": {},
   "outputs": [
    {
     "name": "stdout",
     "output_type": "stream",
     "text": [
      "g: x= 4\n"
     ]
    }
   ],
   "source": [
    "def g(x):\n",
    "    def h():\n",
    "        x = 'abc'\n",
    "    x=x+1\n",
    "    print('g: x=', x)\n",
    "    h() #returned None because it wasn't returned\n",
    "    return x\n",
    "x =3\n",
    "z = g(x)"
   ]
  },
  {
   "cell_type": "markdown",
   "id": "a730b048",
   "metadata": {},
   "source": [
    "Answer to Above: \n",
    "\n",
    "    -g(x) adds 1 to x=3\n",
    "    -h() isn't used because it's returned"
   ]
  },
  {
   "cell_type": "code",
   "execution_count": null,
   "id": "2877c359",
   "metadata": {},
   "outputs": [],
   "source": []
  }
 ],
 "metadata": {
  "kernelspec": {
   "display_name": "Python 3",
   "language": "python",
   "name": "python3"
  },
  "language_info": {
   "codemirror_mode": {
    "name": "ipython",
    "version": 3
   },
   "file_extension": ".py",
   "mimetype": "text/x-python",
   "name": "python",
   "nbconvert_exporter": "python",
   "pygments_lexer": "ipython3",
   "version": "3.7.4"
  }
 },
 "nbformat": 4,
 "nbformat_minor": 5
}
