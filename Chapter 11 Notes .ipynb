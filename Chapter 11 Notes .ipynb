{
 "cells": [
  {
   "cell_type": "markdown",
   "id": "e677640a",
   "metadata": {},
   "source": [
    "# Chapter 11 Notes \n",
    "Link: https://ocw.mit.edu/courses/6-0001-introduction-to-computer-science-and-programming-in-python-fall-2016/resources/lecture-11-understanding-program-efficiency-part-2/"
   ]
  },
  {
   "cell_type": "markdown",
   "id": "b650df18",
   "metadata": {},
   "source": [
    "###### Complexity Class: Recap \n",
    "    - O(1) denotes constant running time \n",
    "    - O(Log n) denotes logarithmic running time \n",
    "    - O(n) denotes linear running time \n",
    "    - O(n log n) denotes log-linear running time \n",
    "    - O(n^c) denotes polynomial running time (c is a constant)\n",
    "    - O(c^n) denotes exponential running time (c is a constant being raised to a power based on size of input)\n",
    "    - wants to be as close to the top as possible "
   ]
  },
  {
   "cell_type": "markdown",
   "id": "ee172b17",
   "metadata": {},
   "source": [
    "##### Constant Complexity: \n",
    "    - Complexity independent of inputs\n",
    "    - Very few interesting algorithms in this class, but can often have pieces that fit this class \n",
    "    - Can have loops or recursive calls, but only if number of iterations or calls independent of size of inputs\n"
   ]
  },
  {
   "cell_type": "markdown",
   "id": "62ae546c",
   "metadata": {},
   "source": [
    "### Binary Search"
   ]
  },
  {
   "cell_type": "markdown",
   "id": "1ee615a3",
   "metadata": {},
   "source": [
    "1. picks an index that divides list in half, works with sorted list\n",
    "2. ask if L[i] ==e\n",
    "3. if not, ask if L[i] is larger or smaller than e \n",
    "4. depending on answer, search or right half of L for e\n",
    "\n",
    "#### A new version of divide and conquer algo\n",
    "    -break into smaller version of problem (smaller list), plus some simple operations \n",
    "    -answer to small version is answer to og problem"
   ]
  },
  {
   "cell_type": "code",
   "execution_count": 2,
   "id": "3101b53c",
   "metadata": {},
   "outputs": [],
   "source": [
    "#Bisection search: Implementation 1\n",
    "def bisec_search1(L,e):\n",
    "    if L ==[]:\n",
    "        return False\n",
    "    elif len(L) ==1:\n",
    "        return L[0] ==e\n",
    "    else:\n",
    "        half = len(L)//2\n",
    "        if L[half] > e:\n",
    "            return bisect_search1( L[:half], e) #not constant bc copying list \n",
    "        else:\n",
    "            return bisect_search1( L[half:], e)"
   ]
  },
  {
   "cell_type": "markdown",
   "id": "54b886c4",
   "metadata": {},
   "source": [
    "###### Complexity of first bisection search method\n",
    "\n",
    "1. implementation 1: bisect_search1\n",
    "\n",
    "    - O(log n) bisection search calls\n",
    "        - On each recursive call, size of range to be search is cut in half \n",
    "        - if og range is of size n, in worst case down to range of size 1 when n/(2^k) =1, or when k = log n\n",
    "    - O(n) for each bisection search call to copy list\n",
    "        - this is the cost to set up each call, so do this for each level of recursion\n",
    "    - O(log n) * O(n) --> O(n log n)\n",
    "        - if we are really careful, note that length of list to be copied is also halved on each recursive call\n",
    "        - turns out that total cost to copy is O(n) and this dominates the log n cost due to the recursive calls "
   ]
  },
  {
   "cell_type": "code",
   "execution_count": 10,
   "id": "9d2cd670",
   "metadata": {},
   "outputs": [],
   "source": [
    "def bisect_search2(L,e):\n",
    "    #log complexity function\n",
    "    def bisect_search_helper(L,e,low,high):\n",
    "        if high ==low:\n",
    "            return L[low] ==e\n",
    "        mid = (low + high)//2\n",
    "        if L[mid] ==e:\n",
    "            return True\n",
    "        elif L[mid] >e:\n",
    "            if low == mid:#nothing left to search\n",
    "                return False\n",
    "            else:\n",
    "                return bisect_search_helper(L, e, low, mid - 1)\n",
    "        else:\n",
    "            return bisect_search_helper(L,e,mid + 1, high)\n",
    "    if len(L) ==0:\n",
    "        return False\n",
    "    else:\n",
    "        return bisect_search_helper(L,e,0,len(L) -1)"
   ]
  },
  {
   "cell_type": "code",
   "execution_count": 11,
   "id": "2e171b98",
   "metadata": {},
   "outputs": [],
   "source": [
    "#Log complexity\n",
    "\n",
    "def intToStr(i):\n",
    "    digits ='0123456789'\n",
    "    if i ==0:\n",
    "        return '0'\n",
    "    result = ''\n",
    "    while i >0:\n",
    "        result = digits [i%10] + result\n",
    "        i = i//10\n",
    "    return result "
   ]
  },
  {
   "cell_type": "code",
   "execution_count": 12,
   "id": "9ef8c713",
   "metadata": {},
   "outputs": [],
   "source": [
    "#o() for iterative factorial\n",
    "#complexity can depends on number of iterative calls \n",
    "def fact_iter(n):\n",
    "    prod = 1\n",
    "    for i in range(1,n+1):\n",
    "        prod *= i\n",
    "    return prod\n",
    "#Overall O(n) - n times round loop constant cost each time "
   ]
  },
  {
   "cell_type": "code",
   "execution_count": 13,
   "id": "0cc3636a",
   "metadata": {},
   "outputs": [],
   "source": [
    "#Doing Orders of N recursively\n",
    "\n",
    "def fact_recur(n):\n",
    "    '''assume n >= 0 \n",
    "    - computes factorial recursively\n",
    "    -if you time it, will notice that it runs slower than iterative version due to function calls\n",
    "    - still O(n) because the number of function calls is linear in n and constant effort to set up calls\n",
    "    iterative and recusrive factorial implementations are the same order of growth\n",
    "    '''\n",
    "    if n <= 1:\n",
    "        return 1 \n",
    "    else:\n",
    "        return n*fact_recur(n-1)\n"
   ]
  },
  {
   "cell_type": "markdown",
   "id": "f6205ad3",
   "metadata": {},
   "source": [
    "##### Log-Linear complexity\n",
    "    - many practical algorithms are log-linear\n",
    "    -very commonly used log-linear algo is merge sort\n",
    "\n",
    "##### Polynomial Complexity\n",
    "    - most common poly algos are quadratic\n",
    "    - i.e. complexity grows with square of size of input\n",
    "    - commonly occurs when we have nested loops or recursive function calls \n",
    "\n",
    "###### Exponential complexity\n",
    "    - recursive functions where more than one recursive call for each size of the problem \n",
    "    - Towers of Hanoi\n",
    "    - many important problems are inherently exponential \n",
    "        - unforunate as costs can be high \n",
    "        - will lead us to consider approxiamte soluations as may provide reasonable answer more quickly"
   ]
  },
  {
   "cell_type": "markdown",
   "id": "6d484804",
   "metadata": {},
   "source": [
    "# Complexity of Towers of Hanoi"
   ]
  },
  {
   "cell_type": "markdown",
   "id": "999911b5",
   "metadata": {},
   "source": [
    "##### Let tn denote time to solve tower of size n\n",
    "- tn = 2(tn+1) + 1\n",
    "-    = 2(2tn-2+1) + 1\n",
    "-    = 4tn-2+2 + 1\n",
    "-    = 4(2tn-3+1) +2 + 1\n",
    "-    = 8tn-3+4 +2 + 1\n",
    "     = 2n+1\n",
    "###### ^ This is geometric growth "
   ]
  },
  {
   "cell_type": "markdown",
   "id": "219188b6",
   "metadata": {},
   "source": [
    "#### Exponential Complexity \n",
    "- given a set of ints(with no repeats), wants to generate the collection of all possible subsets- called the power set\n",
    "\n",
    "- {1,2,3,4} would generate \n",
    "    -{}, {1}, {2},{3},{4}, {1,2},{1,3},{1,4},{2,3},{2,4},{3,4},{1,2,3},{1,2,4},{1,3,4},{2,3,4},{1,2,3,4}\n",
    "   \n",
    "- order does not matter\n",
    "\n",
    "##### Concept\n",
    "- we wanted to generate the power set of int from 1 to n\n",
    "- assume we can generate power set of int from 1 to n-1\n",
    "- then all of those subsets belong to bigger power set (choosing not include n), and all of those subsets with n added to each of them also belong to the bigger power set (choosing to include n)"
   ]
  },
  {
   "cell_type": "markdown",
   "id": "67acdf6a",
   "metadata": {},
   "source": [
    "# Power Setting"
   ]
  },
  {
   "cell_type": "code",
   "execution_count": 14,
   "id": "eb2b7b6a",
   "metadata": {},
   "outputs": [
    {
     "name": "stdout",
     "output_type": "stream",
     "text": [
      "[[], [1], [2], [1, 2], [3], [1, 3], [2, 3], [1, 2, 3]]\n"
     ]
    }
   ],
   "source": [
    "def genSubsets(L):\n",
    "    res = []\n",
    "    if len(L) ==0:\n",
    "        return [[]] #list of empty list #This part is constant^\n",
    "    smaller = genSubsets(L[:-1]) #all subsets without the last element #\n",
    "#last element\n",
    "    extra = L[-1:]\n",
    "    new = []\n",
    "    for small in smaller:\n",
    "        new.append(small+extra) # for all smaller solutions, add one with last element\n",
    "    return smaller+new #combine those with last element and those without\n",
    "L = [1,2,3] #important to think about size of task\n",
    "print(genSubsets(L))\n",
    "\n",
    "#know that for a set of size k, there are 2^k classes\n",
    "#Order of Growth: O(2n)"
   ]
  },
  {
   "cell_type": "markdown",
   "id": "61ffb922",
   "metadata": {},
   "source": [
    "##### Complexity Classes: \n",
    "- O(1): code does not depend on size of problem\n",
    "- O(log n)- reduce problem in half each time through process\n",
    "- O(n)- simple iterative/recursive programs \n",
    "- O(n log n): \n",
    "- O(n^c)- nested loops/recursive calls \n",
    "- o(c^n)- multiple recursive calls at each level "
   ]
  },
  {
   "cell_type": "code",
   "execution_count": 15,
   "id": "5a6e60ec",
   "metadata": {},
   "outputs": [
    {
     "name": "stdout",
     "output_type": "stream",
     "text": [
      "21\n"
     ]
    }
   ],
   "source": [
    "#Complexity of Iterative Fibonacci\n",
    "def fib_iter(n):\n",
    "    if n ==0:\n",
    "        return 0\n",
    "    elif n==1:\n",
    "        return 1 \n",
    "    else:\n",
    "        fib_i = 0\n",
    "        fib_ii =1 #^this is all linear\n",
    "        for i in range(n-1):\n",
    "            tmp = fib_i\n",
    "            fib_i = fib_ii\n",
    "            fib_ii = tmp+ fib_ii #linear O(n)\n",
    "        return fib_ii #constant\n",
    "print(fib_iter(8))"
   ]
  },
  {
   "cell_type": "code",
   "execution_count": 16,
   "id": "0d54970f",
   "metadata": {},
   "outputs": [
    {
     "name": "stdout",
     "output_type": "stream",
     "text": [
      "21\n"
     ]
    }
   ],
   "source": [
    "#Complexity of Recursive Fibonacci\n",
    "def fib_recur(n):\n",
    "    '''assumes n an int >=0'''\n",
    "    if n ==0:\n",
    "        return 0 \n",
    "    elif n==1:\n",
    "        return 1\n",
    "    else:\n",
    "        return fib_recur(n-1) + fib_recur(n-2)\n",
    "print(fib_recur(8))"
   ]
  },
  {
   "cell_type": "markdown",
   "id": "c619434a",
   "metadata": {},
   "source": [
    "##### Complexity of common python functions\n",
    "\n",
    "##### Lists: n is len(L), O(1): \n",
    "- Index,store,length,append, ==, remove,copy, reverse, iteration, in list\n",
    "\n",
    "##### Dictionaries: n is len(d), O(n): \n",
    "- Index,store,length,delete,iteration\n",
    "- Average case\n",
    "    - index,store,delete,iteration"
   ]
  }
 ],
 "metadata": {
  "kernelspec": {
   "display_name": "Python 3",
   "language": "python",
   "name": "python3"
  },
  "language_info": {
   "codemirror_mode": {
    "name": "ipython",
    "version": 3
   },
   "file_extension": ".py",
   "mimetype": "text/x-python",
   "name": "python",
   "nbconvert_exporter": "python",
   "pygments_lexer": "ipython3",
   "version": "3.7.4"
  }
 },
 "nbformat": 4,
 "nbformat_minor": 5
}
