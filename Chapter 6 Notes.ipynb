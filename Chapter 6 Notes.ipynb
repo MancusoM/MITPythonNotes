{
 "cells": [
  {
   "cell_type": "markdown",
   "id": "24d4d739",
   "metadata": {},
   "source": [
    "# Recursion and Dictionaries \n",
    "Link: https://ocw.mit.edu/courses/6-0001-introduction-to-computer-science-and-programming-in-python-fall-2016/resources/lecture-6-recursion-and-dictionaries/"
   ]
  },
  {
   "cell_type": "markdown",
   "id": "e4ece9cf",
   "metadata": {},
   "source": [
    "Recursion: process of repeating items in a self-similar way \n",
    "\n",
    "\n",
    "Algorithmitcally: a way to design solutions to a problem by divide and conquer or decrease and conquer\n",
    "    -reduce a problem to simpler versions of the same problem \n",
    "Semantically: a programming technique where the function calls itself \n",
    "    - in coding, the goal is not to have infinite recursion \n",
    "        - to have one or more base cases that are easy to solve \n",
    "        - must solve the same problem on some other input with the goal of simplfying the larger problem input"
   ]
  },
  {
   "cell_type": "markdown",
   "id": "4f925d0e",
   "metadata": {},
   "source": [
    "### Iterative Algos so far \n",
    "- looping constructs so far (while and for loops): lead to an iterative algos \n",
    "\n",
    "- can capture computation in a set of state variables that update on each iteration through loop "
   ]
  },
  {
   "cell_type": "markdown",
   "id": "16cbbf1d",
   "metadata": {},
   "source": [
    "Recursive State: Multiply a *b == add a to itself b times \n",
    "\n",
    "Capture state by doing one of the two:  \n",
    "\n",
    "    - An iteration number (i) starts at b \n",
    "        I <- i- 1 and stop when i = 0\n",
    "    - A current value of computation\n",
    "        - Results = result +a "
   ]
  },
  {
   "cell_type": "markdown",
   "id": "debe39f3",
   "metadata": {},
   "source": [
    "def mult(a,b):\n",
    "    result = 0\n",
    "    while b >0:\n",
    "        result += a\n",
    "        b -=1\n",
    "    return result\n",
    "print(mult(5,4))"
   ]
  },
  {
   "cell_type": "markdown",
   "id": "9c82f78b",
   "metadata": {},
   "source": [
    "### Recursive Solution \n",
    "Recursive step\n",
    "- think how to reduce problem to a simpler/smaller version of same problem\n",
    "\n",
    "Base case:\n",
    "- keep reducing problem until reach a simple case that can be solved directly\n",
    "    - i.e. = when b =1, a*b =a"
   ]
  },
  {
   "cell_type": "code",
   "execution_count": 9,
   "id": "b4e37b88",
   "metadata": {},
   "outputs": [
    {
     "data": {
      "text/plain": [
       "20"
      ]
     },
     "execution_count": 9,
     "metadata": {},
     "output_type": "execute_result"
    }
   ],
   "source": [
    "def mult(a,b):\n",
    "    if b ==1:\n",
    "        return a\n",
    "    else:\n",
    "        return a + mult(a,b-1)\n",
    "mult(5,4)"
   ]
  },
  {
   "cell_type": "markdown",
   "id": "51bd82c1",
   "metadata": {},
   "source": [
    "## Factorials is a type of recursion\n",
    "n! = n* (n-1) * (n-2) * (n-3) *....*1\n",
    "\n",
    "For when do we know the factorial: n =1 \n",
    "\n",
    "##### Base Case Example \n",
    "- n=1 ---> if n==1:\n",
    "        - return 1\n",
    "    \n",
    "##### Recursive Step example\n",
    "- n*(n-1)! --> else:\n",
    "        - return n*factorial(n-1)\n",
    "    \n",
    "##### Factorial Scope Example Below"
   ]
  },
  {
   "cell_type": "code",
   "execution_count": 29,
   "id": "23a2f559",
   "metadata": {},
   "outputs": [
    {
     "name": "stdout",
     "output_type": "stream",
     "text": [
      "24\n"
     ]
    }
   ],
   "source": [
    "##### Factorial Scope Example \n",
    "def fact(n):\n",
    "    if n==1:\n",
    "        return 1\n",
    "    else:\n",
    "        return n*fact(n-1) # iterates through the if statement until n =1\n",
    "print(fact(4))\n",
    "\n",
    "#each recursive call to a function creates its own scope/environment\n",
    "#bindings of variables in a scope are not changes by recursive call \n",
    "#flow of control passes back to previous scope once function call returns value "
   ]
  },
  {
   "cell_type": "code",
   "execution_count": 8,
   "id": "67cc11ce",
   "metadata": {},
   "outputs": [
    {
     "name": "stdout",
     "output_type": "stream",
     "text": [
      "24\n"
     ]
    }
   ],
   "source": [
    "### Iterative Call \n",
    "def factorial_iter(n):\n",
    "    prod =1\n",
    "    for i in range(1,n+1):\n",
    "        prod *=i\n",
    "    return prod\n",
    "print(factorial_iter(4))"
   ]
  },
  {
   "cell_type": "code",
   "execution_count": 5,
   "id": "8f3ce649",
   "metadata": {},
   "outputs": [
    {
     "name": "stdout",
     "output_type": "stream",
     "text": [
      "24\n"
     ]
    }
   ],
   "source": [
    "###### Recursion Factorial\n",
    "#simpler than iterative, more efficient\n",
    "def factorial(n):\n",
    "    if n==1:\n",
    "        return 1 \n",
    "    else:\n",
    "        return n*factorial(n-1)\n",
    "print(factorial(4))"
   ]
  },
  {
   "cell_type": "code",
   "execution_count": 23,
   "id": "ea2e59c6",
   "metadata": {},
   "outputs": [
    {
     "name": "stdout",
     "output_type": "stream",
     "text": [
      "20\n"
     ]
    }
   ],
   "source": [
    "#Iterative \n",
    "def mult_iter(a,b):\n",
    "    result =0\n",
    "    while b >0:\n",
    "        result +=a\n",
    "        b -=1\n",
    "    return result\n",
    "print(mult_iter(5,4))"
   ]
  },
  {
   "cell_type": "code",
   "execution_count": 25,
   "id": "83d584b8",
   "metadata": {},
   "outputs": [
    {
     "name": "stdout",
     "output_type": "stream",
     "text": [
      "20\n"
     ]
    }
   ],
   "source": [
    "#Recursive, simpler\n",
    "def mult(a,b):\n",
    "    if b==1:\n",
    "        return a\n",
    "    else:\n",
    "        return a +mult(a,b-1)\n",
    "print(mult(5,4))"
   ]
  },
  {
   "cell_type": "code",
   "execution_count": 9,
   "id": "ef30e84f",
   "metadata": {},
   "outputs": [],
   "source": [
    "#Hanoi's Towers example\n",
    "def printMove(fr,to):\n",
    "    print('move from' + str(fr) +'to'+str(to))\n",
    "def Towers(n,fr,to,spare):\n",
    "    if n==1:\n",
    "        printMove(fr,to)\n",
    "    else:\n",
    "        Towers(n-1,fr,spare,to)\n",
    "        Towers(1,fr,to,spare)\n",
    "        Towers(n-1,spare,to,fr)"
   ]
  },
  {
   "cell_type": "code",
   "execution_count": 10,
   "id": "4689471f",
   "metadata": {},
   "outputs": [
    {
     "data": {
      "text/plain": [
       "8"
      ]
     },
     "execution_count": 10,
     "metadata": {},
     "output_type": "execute_result"
    }
   ],
   "source": [
    "def fib(x):\n",
    "    '''\n",
    "    assumes x an int >=0\n",
    "    returns Fibonacci of x\n",
    "    '''\n",
    "    if x ==0 or x ==1:\n",
    "        return 1\n",
    "    else:\n",
    "        return fib(x-1) +fib(x-2)\n",
    "fib(5)"
   ]
  },
  {
   "cell_type": "markdown",
   "id": "686214b5",
   "metadata": {},
   "source": [
    "Way to solve a palidrome:\n",
    " - first convert string to char, by stripping out punctuation, and converting upper case to lower case\n",
    "Then: \n",
    "  - Base case: a string of length 0 or 1 is a palindrome\n",
    "Recursive Case: \n",
    "    - if first character matches last char, then is a palindrome if middle section is a palindrom"
   ]
  },
  {
   "cell_type": "code",
   "execution_count": 12,
   "id": "62b7e341",
   "metadata": {},
   "outputs": [
    {
     "name": "stdout",
     "output_type": "stream",
     "text": [
      "True\n"
     ]
    }
   ],
   "source": [
    "def isPalidrome(s):\n",
    "    '''\n",
    "    Args: s, an input, chars\n",
    "    \n",
    "    Returns: a booleen if s is a palidrome \n",
    "    '''\n",
    "    def toChars(s):\n",
    "        s = s.lower()\n",
    "        ans = ''\n",
    "        for c in s:\n",
    "            if c in 'abcdefghijklmnopqrstuvwxyz':\\\n",
    "                ans += c\n",
    "        return ans\n",
    "    def isPal(s):\n",
    "        if len(s) <=1:\n",
    "            return True\n",
    "        else:\n",
    "            return s[0] == s[-1] and isPal(s[1:-1])\n",
    "    return isPal(toChars(s))\n",
    "print(isPalidrome('abba'))"
   ]
  },
  {
   "cell_type": "markdown",
   "id": "42da439d",
   "metadata": {},
   "source": [
    "# Dictionary\n",
    "\n"
   ]
  },
  {
   "cell_type": "code",
   "execution_count": null,
   "id": "3ce1e016",
   "metadata": {},
   "outputs": [],
   "source": []
  },
  {
   "cell_type": "code",
   "execution_count": 13,
   "id": "17a61559",
   "metadata": {},
   "outputs": [
    {
     "data": {
      "text/plain": [
       "('2', 'B')"
      ]
     },
     "execution_count": 13,
     "metadata": {},
     "output_type": "execute_result"
    }
   ],
   "source": [
    "names =['Ana','John', 'Denise','Katy']\n",
    "grade = ['B','A+','A','A']\n",
    "course = [2.00,6.0001,20.002,9.01]\n",
    "\n",
    "def get_grade(student,name_list,grade_list,course_list):\n",
    "    \n",
    "    '''\n",
    "    Notes about the function\n",
    "        - A seperate list for each item \n",
    "        - Each list must have the same length \n",
    "        - Info stored across lists at the same index, each index refers to info for a different person\n",
    "        - Wrong way to retrieve the above \n",
    "    '''\n",
    "    i = name_list.index(student)\n",
    "    grade = grade_list[i]\n",
    "    course = course_list[i]\n",
    "    return (course,grade)\n",
    "get_grade('Ana','Ana','B','2.00')"
   ]
  },
  {
   "cell_type": "code",
   "execution_count": 15,
   "id": "aa156909",
   "metadata": {},
   "outputs": [
    {
     "name": "stdout",
     "output_type": "stream",
     "text": [
      "A+\n"
     ]
    },
    {
     "ename": "KeyError",
     "evalue": "'Sylvan'",
     "output_type": "error",
     "traceback": [
      "\u001b[0;31m---------------------------------------------------------------------------\u001b[0m",
      "\u001b[0;31mKeyError\u001b[0m                                  Traceback (most recent call last)",
      "\u001b[0;32m<ipython-input-15-0e8eedad9b44>\u001b[0m in \u001b[0;36m<module>\u001b[0;34m\u001b[0m\n\u001b[1;32m      3\u001b[0m \u001b[0mgrades\u001b[0m \u001b[0;34m=\u001b[0m \u001b[0;34m{\u001b[0m\u001b[0;34m'Ana'\u001b[0m\u001b[0;34m:\u001b[0m\u001b[0;34m'B'\u001b[0m\u001b[0;34m,\u001b[0m\u001b[0;34m\"John\"\u001b[0m\u001b[0;34m:\u001b[0m\u001b[0;34m'A+'\u001b[0m\u001b[0;34m,\u001b[0m\u001b[0;34m\"Denise\"\u001b[0m\u001b[0;34m:\u001b[0m\u001b[0;34m'A'\u001b[0m\u001b[0;34m,\u001b[0m\u001b[0;34m\"Katy\"\u001b[0m\u001b[0;34m:\u001b[0m\u001b[0;34m'A'\u001b[0m\u001b[0;34m}\u001b[0m\u001b[0;34m\u001b[0m\u001b[0;34m\u001b[0m\u001b[0m\n\u001b[1;32m      4\u001b[0m \u001b[0mprint\u001b[0m\u001b[0;34m(\u001b[0m\u001b[0mgrades\u001b[0m\u001b[0;34m[\u001b[0m\u001b[0;34m'John'\u001b[0m\u001b[0;34m]\u001b[0m\u001b[0;34m)\u001b[0m\u001b[0;34m\u001b[0m\u001b[0;34m\u001b[0m\u001b[0m\n\u001b[0;32m----> 5\u001b[0;31m \u001b[0mprint\u001b[0m\u001b[0;34m(\u001b[0m\u001b[0mgrades\u001b[0m\u001b[0;34m[\u001b[0m\u001b[0;34m'Sylvan'\u001b[0m\u001b[0;34m]\u001b[0m\u001b[0;34m)\u001b[0m \u001b[0;31m#Will give an error, not in data\u001b[0m\u001b[0;34m\u001b[0m\u001b[0;34m\u001b[0m\u001b[0m\n\u001b[0m",
      "\u001b[0;31mKeyError\u001b[0m: 'Sylvan'"
     ]
    }
   ],
   "source": [
    "#Works with function in above block \n",
    "my_dict ={}\n",
    "grades = {'Ana':'B',\"John\":'A+',\"Denise\":'A',\"Katy\":'A'}\n",
    "print(grades['John'])\n",
    "print(grades['Sylvan']) #Will give an error, not in data"
   ]
  },
  {
   "cell_type": "code",
   "execution_count": 16,
   "id": "084b0732",
   "metadata": {},
   "outputs": [],
   "source": [
    "#Adding an entry\n",
    "grades['Sylvan'] ='A'"
   ]
  },
  {
   "cell_type": "code",
   "execution_count": 17,
   "id": "300e7a47",
   "metadata": {},
   "outputs": [
    {
     "data": {
      "text/plain": [
       "True"
      ]
     },
     "execution_count": 17,
     "metadata": {},
     "output_type": "execute_result"
    }
   ],
   "source": [
    "#Checking if the below is in dic\n",
    "'John' in grades"
   ]
  },
  {
   "cell_type": "code",
   "execution_count": 18,
   "id": "84222623",
   "metadata": {},
   "outputs": [
    {
     "data": {
      "text/plain": [
       "False"
      ]
     },
     "execution_count": 18,
     "metadata": {},
     "output_type": "execute_result"
    }
   ],
   "source": [
    "#Checks if the string \"Daniel\" is in grades \n",
    "'Daniel' in grades"
   ]
  },
  {
   "cell_type": "code",
   "execution_count": 74,
   "id": "a5cc3d12",
   "metadata": {},
   "outputs": [],
   "source": [
    "#Deletes dic entries\n",
    "del(grades['Ana'])"
   ]
  },
  {
   "cell_type": "code",
   "execution_count": 77,
   "id": "968d2c37",
   "metadata": {},
   "outputs": [
    {
     "data": {
      "text/plain": [
       "dict_keys(['John', 'Denise', 'Katy', 'Sylvan'])"
      ]
     },
     "execution_count": 77,
     "metadata": {},
     "output_type": "execute_result"
    }
   ],
   "source": [
    "grades.keys() #no guaranteed order"
   ]
  },
  {
   "cell_type": "code",
   "execution_count": 76,
   "id": "46582933",
   "metadata": {},
   "outputs": [
    {
     "data": {
      "text/plain": [
       "dict_values(['A+', 'A', 'A', 'A'])"
      ]
     },
     "execution_count": 76,
     "metadata": {},
     "output_type": "execute_result"
    }
   ],
   "source": [
    "grades.values() #no guarenteed order"
   ]
  },
  {
   "cell_type": "markdown",
   "id": "13b72154",
   "metadata": {},
   "source": [
    "List: Ordered sequence of elements\n",
    "    - look up elements by an integer index\n",
    "    - indicies have an order\n",
    "    - index is an integer\n",
    "\n",
    "Dict: matches keys to values\n",
    "    - look up one item by another item \n",
    "    - no order is guaranteed \n",
    "    - key can be any immutable type"
   ]
  },
  {
   "cell_type": "code",
   "execution_count": 19,
   "id": "b307f843",
   "metadata": {},
   "outputs": [],
   "source": [
    "#Creating an dictionary \n",
    "\n",
    "def lyrics_to_frequencies(lyrics):\n",
    "    '''\n",
    "    Inputs: Lyrics to see loves \n",
    "    \n",
    "    returns: dictionary with the lyrics of She Loves You \n",
    "    Adds the words to She loves you into a currently blank dictionary\n",
    "    '''\n",
    "    myDict={}\n",
    "    for word in lyrics:\n",
    "        if word in myDict:\n",
    "            myDict[word] +=1\n",
    "        else:\n",
    "            myDict[word]=1\n",
    "    return myDict\n",
    "#lyrics_to_frequencies(she_loves_you) dont have it loaded "
   ]
  },
  {
   "cell_type": "code",
   "execution_count": 20,
   "id": "aef3d264",
   "metadata": {},
   "outputs": [],
   "source": [
    "def most_common_words(freqs):\n",
    "    '''\n",
    "    Inputs: freqs, int, a variable\n",
    "    \n",
    "    Returns: words: the most common word\n",
    "             best: the number that the most common word is said \n",
    "    '''\n",
    "    values = freqs.values()\n",
    "    best = max(values)\n",
    "    words = []\n",
    "    for k in freqs:\n",
    "        if freqs[k] ==best:\n",
    "            words.append(k)\n",
    "    return (words,best)\n",
    "#unable to load bc song isn't loaded"
   ]
  },
  {
   "cell_type": "code",
   "execution_count": 23,
   "id": "b706ff1e",
   "metadata": {},
   "outputs": [],
   "source": [
    "def words_often(freqs,minTimes):\n",
    "    '''\n",
    "    inputs: freqs, a variable\n",
    "            minTimes: the min amount of times a lyric must appear to \n",
    "    \n",
    "    Returns a boolean that indicates if a lyric is said more than minTimes times \n",
    "    '''\n",
    "    result = []\n",
    "    done = False\n",
    "    while not done:\n",
    "        temp = most_common_words(freqs)\n",
    "        if temp[1] >= minTimes:\n",
    "            result.append(temp)\n",
    "            for w in temp[0]:\n",
    "                del (freqs[w])\n",
    "        else:\n",
    "            done = True\n",
    "    return result\n",
    "#print(words_often(beatles,5)) doesn't work bc song is not defined "
   ]
  },
  {
   "cell_type": "code",
   "execution_count": 28,
   "id": "f3268f61",
   "metadata": {},
   "outputs": [
    {
     "name": "stdout",
     "output_type": "stream",
     "text": [
      "89\n"
     ]
    }
   ],
   "source": [
    "#Most efficient, quicker bc it uses a dictionary\n",
    "def fib_efficient(n,d):\n",
    "    '''\n",
    "    Inputs: n, an int input\n",
    "            d, an dictionary that makes the fibonacci function work\n",
    "    \n",
    "    returns: ans, the answer to the fibonacci sequence\n",
    "    '''\n",
    "    if n in d:\n",
    "        return d[n]\n",
    "    else:\n",
    "        ans = fib_efficient(n-1,d) + fib_efficient(n-2,d)\n",
    "        d[n] =ans\n",
    "        return ans\n",
    "d = {1:1,2:2}\n",
    "print(fib_efficient(10,d))"
   ]
  }
 ],
 "metadata": {
  "kernelspec": {
   "display_name": "Python 3",
   "language": "python",
   "name": "python3"
  },
  "language_info": {
   "codemirror_mode": {
    "name": "ipython",
    "version": 3
   },
   "file_extension": ".py",
   "mimetype": "text/x-python",
   "name": "python",
   "nbconvert_exporter": "python",
   "pygments_lexer": "ipython3",
   "version": "3.7.4"
  }
 },
 "nbformat": 4,
 "nbformat_minor": 5
}
