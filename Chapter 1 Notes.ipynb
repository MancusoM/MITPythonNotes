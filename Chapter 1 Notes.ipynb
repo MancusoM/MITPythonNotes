{
 "cells": [
  {
   "cell_type": "markdown",
   "id": "a245e475",
   "metadata": {},
   "source": [
    "# Chapter 1 Notes\n",
    "###### -Please note Chapter 1, Chapter 2, and Chapter 3's Notes only contains the code from the video \n",
    "Link:https://ocw.mit.edu/courses/6-0001-introduction-to-computer-science-and-programming-in-python-fall-2016/resources/lecture-1-what-is-computation/"
   ]
  },
  {
   "cell_type": "markdown",
   "id": "62f56ac3",
   "metadata": {},
   "source": [
    "# Declarative Knowledge: The literal knowledge \n",
    "\n",
    "# Imperative Knowledge: The knowledge on how to do something \n",
    "\n",
    "###### Recipe: a three parter \n",
    "1. Sequence of simple steps \n",
    "2. Focus on control \n",
    "3. Stop"
   ]
  },
  {
   "cell_type": "markdown",
   "id": "c4ef3c0e",
   "metadata": {},
   "source": [
    "# Types of Computers"
   ]
  },
  {
   "cell_type": "markdown",
   "id": "bea256e5",
   "metadata": {},
   "source": [
    "1. Fixed program = calculator, stored program = machine stores and executes instructions \n",
    "\n",
    "2. Turing: you can do anything via 6 primitives, beginning of programming languages \n",
    "\n",
    "    1. Primitives: numbers, strings, booleans \n",
    "\n",
    "#### Scalar Vs Non-Scaler \n",
    "\n",
    "- Scalar objects: can't be subdivided (5)\n",
    "\n",
    "- Non-Scalar: have some internal structure (lists)"
   ]
  },
  {
   "cell_type": "markdown",
   "id": "662b1c32",
   "metadata": {},
   "source": [
    "# Types of Scalar Objects"
   ]
  },
  {
   "cell_type": "markdown",
   "id": "28d03035",
   "metadata": {},
   "source": [
    "- Int= Integers\n",
    "\n",
    "- Float = Real Numbers\n",
    "\n",
    "    - By putting float in front of int, Python will change in 3 to float 3.0\n",
    "\n",
    "- Bool = Boolean\n",
    "\n",
    "- NoneType: Special\n",
    "\n",
    "- Can use type() for classification of scalar objects\n"
   ]
  },
  {
   "cell_type": "code",
   "execution_count": 3,
   "id": "cd06fabc",
   "metadata": {},
   "outputs": [
    {
     "data": {
      "text/plain": [
       "80"
      ]
     },
     "execution_count": 3,
     "metadata": {},
     "output_type": "execute_result"
    }
   ],
   "source": [
    "#The following is quick example code from the video \n",
    "import random\n",
    "random.randint(16,187)"
   ]
  },
  {
   "cell_type": "code",
   "execution_count": 4,
   "id": "671bb802",
   "metadata": {},
   "outputs": [
    {
     "data": {
      "text/plain": [
       "list"
      ]
     },
     "execution_count": 4,
     "metadata": {},
     "output_type": "execute_result"
    }
   ],
   "source": [
    "d = [3,4,5,23]\n",
    "type(d)"
   ]
  },
  {
   "cell_type": "code",
   "execution_count": 5,
   "id": "d4788399",
   "metadata": {},
   "outputs": [],
   "source": [
    "from math import pi\n",
    "radius = 4.2"
   ]
  },
  {
   "cell_type": "code",
   "execution_count": 19,
   "id": "623d8756",
   "metadata": {},
   "outputs": [
    {
     "data": {
      "text/plain": [
       "55.41769440932395"
      ]
     },
     "execution_count": 19,
     "metadata": {},
     "output_type": "execute_result"
    }
   ],
   "source": [
    "area = pi * (radius **2)\n",
    "area"
   ]
  },
  {
   "cell_type": "markdown",
   "id": "ffcbc24c",
   "metadata": {},
   "source": [
    "# Problem Set 0 "
   ]
  },
  {
   "cell_type": "code",
   "execution_count": 21,
   "id": "fe699653",
   "metadata": {},
   "outputs": [],
   "source": [
    "import numpy as np \n",
    "import pylab as py \n",
    "from math import log2"
   ]
  },
  {
   "cell_type": "code",
   "execution_count": 23,
   "id": "4ef31a7c",
   "metadata": {},
   "outputs": [
    {
     "name": "stdout",
     "output_type": "stream",
     "text": [
      "Enter a First Number:33\n"
     ]
    }
   ],
   "source": [
    "a = input('Enter a First Number:') #Where the user would enter in their first number"
   ]
  },
  {
   "cell_type": "code",
   "execution_count": 24,
   "id": "4694496d",
   "metadata": {},
   "outputs": [
    {
     "name": "stdout",
     "output_type": "stream",
     "text": [
      "Enter a Second Number:23\n"
     ]
    }
   ],
   "source": [
    "b = input('Enter a Second Number:') #Where the user would enter in their second number "
   ]
  },
  {
   "cell_type": "code",
   "execution_count": 25,
   "id": "115906ce",
   "metadata": {},
   "outputs": [
    {
     "data": {
      "text/plain": [
       "33"
      ]
     },
     "execution_count": 25,
     "metadata": {},
     "output_type": "execute_result"
    }
   ],
   "source": [
    "e = int(e)\n",
    "e"
   ]
  },
  {
   "cell_type": "code",
   "execution_count": 26,
   "id": "700834f4",
   "metadata": {},
   "outputs": [
    {
     "data": {
      "text/plain": [
       "23"
      ]
     },
     "execution_count": 26,
     "metadata": {},
     "output_type": "execute_result"
    }
   ],
   "source": [
    "b = int(b)\n",
    "b"
   ]
  },
  {
   "cell_type": "code",
   "execution_count": 27,
   "id": "ec9363c5",
   "metadata": {},
   "outputs": [
    {
     "name": "stdout",
     "output_type": "stream",
     "text": [
      "Your first number raised to the power of your second number is 84298649517881921267934984258191360.\n",
      "Your first number raised to the power of Log (base 2) is 5.\n"
     ]
    }
   ],
   "source": [
    "print('Your first number raised to the power of your second number is %.0f.' % (e**b))\n",
    "print('Your first number raised to the power of Log (base 2) is %.0f.' % (np.log2(e)))"
   ]
  }
 ],
 "metadata": {
  "kernelspec": {
   "display_name": "Python 3",
   "language": "python",
   "name": "python3"
  },
  "language_info": {
   "codemirror_mode": {
    "name": "ipython",
    "version": 3
   },
   "file_extension": ".py",
   "mimetype": "text/x-python",
   "name": "python",
   "nbconvert_exporter": "python",
   "pygments_lexer": "ipython3",
   "version": "3.7.4"
  }
 },
 "nbformat": 4,
 "nbformat_minor": 5
}
