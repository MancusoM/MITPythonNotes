{
 "cells": [
  {
   "cell_type": "markdown",
   "id": "1a67faa0",
   "metadata": {},
   "source": [
    "## Chapter 2 Notes \n",
    "###### -Please note Chapter 1, Chapter 2, and Chapter 3's Notes only contains the code from the video \n",
    "Link: https://ocw.mit.edu/courses/6-0001-introduction-to-computer-science-and-programming-in-python-fall-2016/resources/lecture-2-branching-and-iteration/"
   ]
  },
  {
   "cell_type": "code",
   "execution_count": 1,
   "id": "8dcfe609",
   "metadata": {},
   "outputs": [
    {
     "data": {
      "text/plain": [
       "'hello there Matt'"
      ]
     },
     "execution_count": 1,
     "metadata": {},
     "output_type": "execute_result"
    }
   ],
   "source": [
    "#Please note Chapter 1 and Chapter 2's Notes only contains the code from the video \n",
    "#The below three blocks are simple text conjugations\n",
    "\n",
    "hi = 'hello there'\n",
    "name = 'Matt'\n",
    "greet = hi + \" \" + name\n",
    "greet"
   ]
  },
  {
   "cell_type": "code",
   "execution_count": 2,
   "id": "ac2f1b65",
   "metadata": {},
   "outputs": [
    {
     "data": {
      "text/plain": [
       "'hello there Matt Matt Matt'"
      ]
     },
     "execution_count": 2,
     "metadata": {},
     "output_type": "execute_result"
    }
   ],
   "source": [
    "silly = hi + (\" \" + name) * 3\n",
    "silly"
   ]
  },
  {
   "cell_type": "code",
   "execution_count": 3,
   "id": "8fb2118c",
   "metadata": {},
   "outputs": [
    {
     "name": "stdout",
     "output_type": "stream",
     "text": [
      "1\n"
     ]
    }
   ],
   "source": [
    "x =1 \n",
    "print(x)\n",
    "x_str = str(x)"
   ]
  },
  {
   "cell_type": "code",
   "execution_count": 4,
   "id": "48ba7d79",
   "metadata": {},
   "outputs": [
    {
     "name": "stdout",
     "output_type": "stream",
     "text": [
      "My favorite number is  1 ; x= 1\n"
     ]
    }
   ],
   "source": [
    "#The below are simple print statements \n",
    "print (\"My favorite number is \", x, \";\", \"x=\", x)"
   ]
  },
  {
   "cell_type": "code",
   "execution_count": 5,
   "id": "d7e3e59f",
   "metadata": {},
   "outputs": [
    {
     "name": "stdout",
     "output_type": "stream",
     "text": [
      "My favorite num is 1 ; x= 1\n"
     ]
    }
   ],
   "source": [
    "print (\"My favorite num is \" + x_str, \"; x= \" +x_str)"
   ]
  },
  {
   "cell_type": "code",
   "execution_count": 10,
   "id": "21c9dadd",
   "metadata": {},
   "outputs": [
    {
     "name": "stdout",
     "output_type": "stream",
     "text": [
      "Type anything 33\n",
      "3333333333\n",
      "Type a Number 23\n",
      "115\n"
     ]
    }
   ],
   "source": [
    "#Simple inputs \n",
    "text = input(\"Type anything \")\n",
    "print(text*5)\n",
    "num = int(input(\"Type a Number \"))\n",
    "print(num *5)"
   ]
  },
  {
   "cell_type": "code",
   "execution_count": 6,
   "id": "1d0d2683",
   "metadata": {},
   "outputs": [
    {
     "data": {
      "text/plain": [
       "True"
      ]
     },
     "execution_count": 6,
     "metadata": {},
     "output_type": "execute_result"
    }
   ],
   "source": [
    "#Sorting via alphabet value\n",
    "i ='i'\n",
    "j='j'\n",
    "i<j"
   ]
  },
  {
   "cell_type": "code",
   "execution_count": 13,
   "id": "9506856c",
   "metadata": {},
   "outputs": [
    {
     "name": "stdout",
     "output_type": "stream",
     "text": [
      "Enter a number for X: 3\n",
      "Enter a number for Y: 3\n"
     ]
    }
   ],
   "source": [
    "#Two inputs that accept their values via a float answer \n",
    "x= float(input(\"Enter a number for X: \"))\n",
    "y= float(input(\"Enter a number for Y: \"))"
   ]
  },
  {
   "cell_type": "code",
   "execution_count": 7,
   "id": "822297df",
   "metadata": {},
   "outputs": [
    {
     "ename": "NameError",
     "evalue": "name 'y' is not defined",
     "output_type": "error",
     "traceback": [
      "\u001b[0;31m---------------------------------------------------------------------------\u001b[0m",
      "\u001b[0;31mNameError\u001b[0m                                 Traceback (most recent call last)",
      "\u001b[0;32m<ipython-input-7-6c7ca20894a4>\u001b[0m in \u001b[0;36m<module>\u001b[0;34m\u001b[0m\n\u001b[1;32m      1\u001b[0m \u001b[0;31m#if/elif/else statement that takes in the previous inputs and runs them\u001b[0m\u001b[0;34m\u001b[0m\u001b[0;34m\u001b[0m\u001b[0;34m\u001b[0m\u001b[0m\n\u001b[0;32m----> 2\u001b[0;31m \u001b[0;32mif\u001b[0m \u001b[0mx\u001b[0m \u001b[0;34m==\u001b[0m \u001b[0my\u001b[0m\u001b[0;34m:\u001b[0m\u001b[0;34m\u001b[0m\u001b[0;34m\u001b[0m\u001b[0m\n\u001b[0m\u001b[1;32m      3\u001b[0m     \u001b[0mprint\u001b[0m\u001b[0;34m(\u001b[0m\u001b[0;34m'X and Y are equal'\u001b[0m\u001b[0;34m)\u001b[0m\u001b[0;34m\u001b[0m\u001b[0;34m\u001b[0m\u001b[0m\n\u001b[1;32m      4\u001b[0m     \u001b[0;32mif\u001b[0m \u001b[0my\u001b[0m\u001b[0;34m!=\u001b[0m \u001b[0;36m0\u001b[0m\u001b[0;34m:\u001b[0m\u001b[0;34m\u001b[0m\u001b[0;34m\u001b[0m\u001b[0m\n\u001b[1;32m      5\u001b[0m         \u001b[0mprint\u001b[0m\u001b[0;34m(\u001b[0m\u001b[0;34m\"therefore; Y divided by X is \"\u001b[0m\u001b[0;34m,\u001b[0m\u001b[0mint\u001b[0m\u001b[0;34m(\u001b[0m\u001b[0mx\u001b[0m\u001b[0;34m/\u001b[0m\u001b[0my\u001b[0m\u001b[0;34m)\u001b[0m\u001b[0;34m)\u001b[0m\u001b[0;34m\u001b[0m\u001b[0;34m\u001b[0m\u001b[0m\n",
      "\u001b[0;31mNameError\u001b[0m: name 'y' is not defined"
     ]
    }
   ],
   "source": [
    "#if/elif/else statement that takes in the previous inputs and runs them \n",
    "if x == y:\n",
    "    print('X and Y are equal')\n",
    "    if y!= 0:\n",
    "        print(\"therefore; Y divided by X is \",int(x/y))\n",
    "elif x < y:\n",
    "        print(\"X is smaller than Y\")\n",
    "else:\n",
    "        print(\"Y is smaller\")\n",
    "print(\"Thanks!\")"
   ]
  },
  {
   "cell_type": "markdown",
   "id": "9a0cada1",
   "metadata": {},
   "source": [
    "# While and For Loops "
   ]
  },
  {
   "cell_type": "code",
   "execution_count": 9,
   "id": "4cd76e21",
   "metadata": {},
   "outputs": [
    {
     "name": "stdout",
     "output_type": "stream",
     "text": [
      "You're in the lost forest. Go left or right f\n",
      "You got out of the lost forest!\n"
     ]
    }
   ],
   "source": [
    "#If the user inputs anything but \"right\", the loop ends. If the user inputs right, the loop will continue going \n",
    "n = input(\"You're in the lost forest. Go left or right \")\n",
    "while n==\"right\":\n",
    "    n= input(\"you're in the lost forest. Go Left or Right \")\n",
    "print(\"You got out of the lost forest!\")"
   ]
  },
  {
   "cell_type": "code",
   "execution_count": 11,
   "id": "0aee40d4",
   "metadata": {},
   "outputs": [
    {
     "name": "stdout",
     "output_type": "stream",
     "text": [
      "0\n",
      "1\n",
      "2\n",
      "3\n",
      "4\n"
     ]
    }
   ],
   "source": [
    "#while loop that is in effect, for when n <= 5 \n",
    "n = 0\n",
    "while n <5:\n",
    "    print(n)\n",
    "    n +=1"
   ]
  },
  {
   "cell_type": "code",
   "execution_count": 17,
   "id": "93a3fe10",
   "metadata": {},
   "outputs": [
    {
     "name": "stdout",
     "output_type": "stream",
     "text": [
      "0\n",
      "1\n",
      "2\n",
      "3\n",
      "4\n"
     ]
    }
   ],
   "source": [
    "#prints n when in when n is in between 0 and 5\n",
    "#range automatically starts at 0 \n",
    "for n in range(5):\n",
    "    print(n)"
   ]
  },
  {
   "cell_type": "code",
   "execution_count": 18,
   "id": "f5c02237",
   "metadata": {},
   "outputs": [
    {
     "name": "stdout",
     "output_type": "stream",
     "text": [
      "24\n"
     ]
    }
   ],
   "source": [
    "#mysum = inital value \n",
    "# adds up 7,8,9 (which are the numbers in between 7 and 10)\n",
    "mysum = 0\n",
    "for i in range(7,10):\n",
    "    mysum += i\n",
    "print(mysum)"
   ]
  },
  {
   "cell_type": "code",
   "execution_count": 12,
   "id": "9f84165f",
   "metadata": {},
   "outputs": [
    {
     "name": "stdout",
     "output_type": "stream",
     "text": [
      "21\n"
     ]
    }
   ],
   "source": [
    "#The range functions \n",
    "#first number (5) is where the program starts \n",
    "#second number (11) is where the program ends \n",
    "#third number (2) represents that the program will impact every second number \"\"\n",
    "mysum=0\n",
    "for i in range(5,11,2):\n",
    "    mysum+= i\n",
    "print(mysum)\n",
    "\n",
    "#use for loops when you know the iteration\n",
    "#use counter, easier to rewrite \n",
    "#use while loops when you have user input, can end via break"
   ]
  },
  {
   "cell_type": "code",
   "execution_count": null,
   "id": "6c2c72b2",
   "metadata": {},
   "outputs": [],
   "source": []
  }
 ],
 "metadata": {
  "kernelspec": {
   "display_name": "Python 3",
   "language": "python",
   "name": "python3"
  },
  "language_info": {
   "codemirror_mode": {
    "name": "ipython",
    "version": 3
   },
   "file_extension": ".py",
   "mimetype": "text/x-python",
   "name": "python",
   "nbconvert_exporter": "python",
   "pygments_lexer": "ipython3",
   "version": "3.7.4"
  }
 },
 "nbformat": 4,
 "nbformat_minor": 5
}
