{
 "cells": [
  {
   "cell_type": "markdown",
   "id": "857a909e",
   "metadata": {},
   "source": [
    "# Chapter 3 \n",
    "\n",
    "###### -Please note Chapter 1, Chapter 2, and Chapter 3's Notes only contains the code from the video \n",
    "Link: https://ocw.mit.edu/courses/6-0001-introduction-to-computer-science-and-programming-in-python-fall-2016/resources/lecture-3-string-manipulation-guess-and-check-approximations-bisection/"
   ]
  },
  {
   "cell_type": "code",
   "execution_count": 1,
   "id": "e2eb3a34",
   "metadata": {},
   "outputs": [
    {
     "data": {
      "text/plain": [
       "3"
      ]
     },
     "execution_count": 1,
     "metadata": {},
     "output_type": "execute_result"
    }
   ],
   "source": [
    "#Finding the length of the string \"abc\"\n",
    "s = 'abc'\n",
    "len(s)"
   ]
  },
  {
   "cell_type": "markdown",
   "id": "985f2e8c",
   "metadata": {},
   "source": [
    "#### Slicing Technique\n",
    "    - Indexing and Slicing the s string \n"
   ]
  },
  {
   "cell_type": "code",
   "execution_count": 2,
   "id": "7f78c9b3",
   "metadata": {},
   "outputs": [
    {
     "data": {
      "text/plain": [
       "'a'"
      ]
     },
     "execution_count": 2,
     "metadata": {},
     "output_type": "execute_result"
    }
   ],
   "source": [
    "#Returns the first value of the s string \n",
    "s[0]"
   ]
  },
  {
   "cell_type": "code",
   "execution_count": 3,
   "id": "6b2ca0b1",
   "metadata": {},
   "outputs": [
    {
     "data": {
      "text/plain": [
       "'def'"
      ]
     },
     "execution_count": 3,
     "metadata": {},
     "output_type": "execute_result"
    }
   ],
   "source": [
    "#Returns the fourth through sixth value of the r string \n",
    "#Helpful link: https://www.digitalocean.com/community/tutorials/how-to-index-and-slice-strings-in-python-3\n",
    "r = 'abcdefgh'\n",
    "r[3:6]"
   ]
  },
  {
   "cell_type": "code",
   "execution_count": 4,
   "id": "29bf4d45",
   "metadata": {},
   "outputs": [
    {
     "data": {
      "text/plain": [
       "'df'"
      ]
     },
     "execution_count": 4,
     "metadata": {},
     "output_type": "execute_result"
    }
   ],
   "source": [
    "#Returns every second value between the fourth and sixth values in the r string\n",
    "r[3:6:2]"
   ]
  },
  {
   "cell_type": "code",
   "execution_count": 5,
   "id": "b198d8c1",
   "metadata": {},
   "outputs": [
    {
     "data": {
      "text/plain": [
       "'abcdefgh'"
      ]
     },
     "execution_count": 5,
     "metadata": {},
     "output_type": "execute_result"
    }
   ],
   "source": [
    "#Returns the entire r string \n",
    "r[::]"
   ]
  },
  {
   "cell_type": "code",
   "execution_count": 6,
   "id": "7f3f8b04",
   "metadata": {},
   "outputs": [
    {
     "data": {
      "text/plain": [
       "'hgfedcba'"
      ]
     },
     "execution_count": 6,
     "metadata": {},
     "output_type": "execute_result"
    }
   ],
   "source": [
    "#Returns the r string, backwards\n",
    "r[::-1]"
   ]
  },
  {
   "cell_type": "code",
   "execution_count": 7,
   "id": "860bb50d",
   "metadata": {},
   "outputs": [
    {
     "data": {
      "text/plain": [
       "'ec'"
      ]
     },
     "execution_count": 7,
     "metadata": {},
     "output_type": "execute_result"
    }
   ],
   "source": [
    "#Returns, every other value, starting the fifth value and from the second-to-last value, backwards\n",
    "r[4:1:-2]"
   ]
  },
  {
   "cell_type": "code",
   "execution_count": 8,
   "id": "cd0cf944",
   "metadata": {},
   "outputs": [
    {
     "data": {
      "text/plain": [
       "'yello'"
      ]
     },
     "execution_count": 8,
     "metadata": {},
     "output_type": "execute_result"
    }
   ],
   "source": [
    "#Returns the y string, then returns the q string, with the first value remove \n",
    "q = 'hello'\n",
    "q = 'y' + q[1:len(q)]\n",
    "q"
   ]
  },
  {
   "cell_type": "code",
   "execution_count": 10,
   "id": "e2f80173",
   "metadata": {},
   "outputs": [],
   "source": [
    "#Creates a t string (For fun)\n",
    "t = 'abcdefgh'"
   ]
  },
  {
   "cell_type": "code",
   "execution_count": 14,
   "id": "8f38f8c8",
   "metadata": {},
   "outputs": [
    {
     "name": "stdout",
     "output_type": "stream",
     "text": [
      "abc\n",
      "There is not an i or u\n",
      "There is not an i or u\n",
      "There is not an i or u\n"
     ]
    }
   ],
   "source": [
    "#Prints the s string, then for each char in the string, prints out a return indicating if there is a i or a u \n",
    "print(s)\n",
    "for char in s:\n",
    "    if char =='i' or char =='u':\n",
    "        print (\"there is an i or u\")\n",
    "    else:\n",
    "        print(\"There is not an i or u\")"
   ]
  },
  {
   "cell_type": "markdown",
   "id": "235438da",
   "metadata": {},
   "source": [
    "### Cheering Program "
   ]
  },
  {
   "cell_type": "code",
   "execution_count": 12,
   "id": "19cdc1be",
   "metadata": {},
   "outputs": [
    {
     "name": "stdout",
     "output_type": "stream",
     "text": [
      "I will cheer for you! Enter a Word: Matt\n"
     ]
    }
   ],
   "source": [
    "#Asks for an input that runs through the if/else statement (which delivers the same output)\n",
    "an_letter = 'aefhilmnorszAEFHILMNORSX' #This can be random \n",
    "word = input(\"I will cheer for you! Enter a Word: \")"
   ]
  },
  {
   "cell_type": "code",
   "execution_count": 14,
   "id": "dbe65756",
   "metadata": {},
   "outputs": [
    {
     "name": "stdout",
     "output_type": "stream",
     "text": [
      "Enthusiasm Level (1-10): 4\n"
     ]
    }
   ],
   "source": [
    "#Will impact how many times the loop is run \n",
    "times = int(input(\"Enthusiasm Level (1-10): \"))"
   ]
  },
  {
   "cell_type": "code",
   "execution_count": 16,
   "id": "8a0b4029",
   "metadata": {},
   "outputs": [
    {
     "name": "stdout",
     "output_type": "stream",
     "text": [
      "Give me an M! M\n",
      "Give me a a! a\n",
      "Give me a t! t\n",
      "Give me a t! t\n",
      "What does that spell?\n",
      "Matt !!!!\n",
      "Matt !!!!\n",
      "Matt !!!!\n",
      "Matt !!!!\n"
     ]
    }
   ],
   "source": [
    "i = 0\n",
    "while i < len(word):    #the loop stops when the length of the word is reached \n",
    "\n",
    "    '''\n",
    "    Args: \n",
    "        - word = the word that will be used\n",
    "    \n",
    "    Returns: \n",
    "        - each letter, preceded by \"Give Me an\" + letter\n",
    "        - \"What does that spell\"\n",
    "        - the word, which is run per variable times times \n",
    "    '''\n",
    "    char = word[i] #runs for each char in the word \n",
    "    if char in an_letter:\n",
    "        print(\"Give me an \" + char + \"! \" + char)\n",
    "    else:\n",
    "        print(\"Give me a \" + char + \"! \" + char)\n",
    "    i+=1\n",
    "print(\"What does that spell?\")\n",
    "for i in range(times):    \n",
    "    print(word,\"!!!!\")    "
   ]
  },
  {
   "cell_type": "code",
   "execution_count": 17,
   "id": "7a6f5760",
   "metadata": {},
   "outputs": [
    {
     "name": "stdout",
     "output_type": "stream",
     "text": [
      "Give me an M! M\n",
      "Give me a a! a\n",
      "Give me a t! t\n",
      "Give me a t! t\n",
      "What does that spell?\n",
      "Matt !!!!\n",
      "Matt !!!!\n",
      "Matt !!!!\n",
      "Matt !!!!\n"
     ]
    }
   ],
   "source": [
    "#Same functionality as the previous, except no need for an_letter because char takes care of that functionality\n",
    "for char in word:\n",
    "    if char in an_letter:\n",
    "        print(\"Give me an \" + char + \"! \" + char)\n",
    "    else:\n",
    "        print(\"Give me a \" + char + \"! \" + char)\n",
    "print(\"What does that spell?\")\n",
    "for i in range(times):\n",
    "    print(word,\"!!!!\")"
   ]
  },
  {
   "cell_type": "markdown",
   "id": "74bb1feb",
   "metadata": {},
   "source": [
    "## Numerical Methods"
   ]
  },
  {
   "cell_type": "code",
   "execution_count": 18,
   "id": "be735b65",
   "metadata": {},
   "outputs": [
    {
     "name": "stdout",
     "output_type": "stream",
     "text": [
      "Cube root of  8 is 2\n"
     ]
    }
   ],
   "source": [
    "#Guess and Check Method, very basic, only works with 8 because that's the inital value, only works with perfect cubes\n",
    "cube = 8\n",
    "for guess in range(cube+1):\n",
    "    if guess **3 == cube:\n",
    "        print(\"Cube root of \", cube, \"is\", guess)"
   ]
  },
  {
   "cell_type": "code",
   "execution_count": 23,
   "id": "b8b236b7",
   "metadata": {},
   "outputs": [
    {
     "name": "stdout",
     "output_type": "stream",
     "text": [
      "Cube root of 8 is 2\n"
     ]
    }
   ],
   "source": [
    "#Guess and Check, only works for perfect cubes\n",
    "#Allows for user to input numbers that aren't perfect cubes \n",
    "for guess in range(abs(cube) +1):\n",
    "    if guess**3 >= abs(cube): #goes through 0,1,2, breaks after 2 because 2 cubed is 8, 3 cubed is larger than 8 so it breaks \n",
    "        break\n",
    "if guess**3 != abs(cube): \n",
    "    print(cube, 'is not a perfect cube') #prints this out if it's not a perfect cube \n",
    "else:\n",
    "    if cube < 0:\n",
    "        guess =- guess\n",
    "    print('Cube root of ' + str(cube) +' is ' + str(guess))"
   ]
  },
  {
   "cell_type": "code",
   "execution_count": 19,
   "id": "75c7a267",
   "metadata": {},
   "outputs": [
    {
     "name": "stdout",
     "output_type": "stream",
     "text": [
      "num_guesses = 2997\n",
      "2.996999999999781 is close to the cube root of  27\n"
     ]
    }
   ],
   "source": [
    "#Approximate Solution\n",
    "#Start with Guess, then increment by smaller value\n",
    "#Program keep guessing until epilson is hit \n",
    "#epsilon and increment is directly related\n",
    "#smaller epsilon = more guesses\n",
    "\n",
    "cube =27\n",
    "epsilon =0.1\n",
    "guess = 0.0\n",
    "increment =0.001\n",
    "num_guesses =0\n",
    "while abs(guess**3 - cube) >= epsilon and guess <=cube: \n",
    "    guess += increment\n",
    "    num_guesses +=1\n",
    "print('num_guesses =', num_guesses)\n",
    "if abs(guess**3 -cube) >= epsilon:\n",
    "    print(\"Failed on cube root of\", cube)\n",
    "else:\n",
    "    print(guess, 'is close to the cube root of ', cube)"
   ]
  },
  {
   "cell_type": "code",
   "execution_count": 20,
   "id": "5f69d8a2",
   "metadata": {},
   "outputs": [
    {
     "name": "stdout",
     "output_type": "stream",
     "text": [
      "num_guesses =  11\n",
      "2.999267578125 is close to the cube root of 27\n"
     ]
    }
   ],
   "source": [
    "#Bisection Method\n",
    "# slices the variable guess in half with each iteration of the while loop, finds an answer to the .1 amount(epsilon)\n",
    "#Num_guesses increments by 1\n",
    "cube =27\n",
    "epsilon =.1\n",
    "num_guesses =0\n",
    "low =0\n",
    "high = cube\n",
    "\n",
    "guess =(high +low)/2.0\n",
    "while abs(guess**3 -cube) >=epsilon: #this line keeps guessing \n",
    "    if guess **3 < cube :\n",
    "        low = guess\n",
    "    else:\n",
    "        high = guess\n",
    "    guess = (high+low)/2.0\n",
    "    num_guesses+=1\n",
    "print('num_guesses = ', num_guesses)\n",
    "print (guess,'is close to the cube root of', cube)"
   ]
  },
  {
   "cell_type": "code",
   "execution_count": null,
   "id": "da4fe88c",
   "metadata": {},
   "outputs": [],
   "source": []
  }
 ],
 "metadata": {
  "kernelspec": {
   "display_name": "Python 3",
   "language": "python",
   "name": "python3"
  },
  "language_info": {
   "codemirror_mode": {
    "name": "ipython",
    "version": 3
   },
   "file_extension": ".py",
   "mimetype": "text/x-python",
   "name": "python",
   "nbconvert_exporter": "python",
   "pygments_lexer": "ipython3",
   "version": "3.7.4"
  }
 },
 "nbformat": 4,
 "nbformat_minor": 5
}
