{
 "cells": [
  {
   "cell_type": "markdown",
   "id": "da8560f8",
   "metadata": {},
   "source": [
    "# Chapter 7 Notes \n",
    "\n",
    "Link: https://ocw.mit.edu/courses/6-0001-introduction-to-computer-science-and-programming-in-python-fall-2016/resources/lecture-7-testing-debugging-exceptions-and-assertions/\n"
   ]
  },
  {
   "cell_type": "markdown",
   "id": "4b325631",
   "metadata": {},
   "source": [
    "##### TESTING, DEBUGGING, EXCEPTIONS, AND ASSERTIONS\n",
    "\n",
    "Writing code in different blocks allows for an easier debugging"
   ]
  },
  {
   "cell_type": "markdown",
   "id": "e6d557b8",
   "metadata": {},
   "source": [
    "##### Classes of Tests:\n",
    "\n",
    "Unit testing: \n",
    "     - testing each function, one at a time \n",
    "\n",
    "Regression testing: \n",
    "    - add test for bugs as you find them \n",
    "    - catch reintroduced errors that were previously fixed \n",
    "\n",
    "Integration testing: \n",
    "    - does overall program work?\n",
    "\n",
    "Testing error approaches: \n",
    "    - intuition about natural boundaries to the problem \n",
    "    - def is_bigger(x,y):"
   ]
  },
  {
   "cell_type": "markdown",
   "id": "790e3986",
   "metadata": {},
   "source": [
    "##### Can you come up with natural partitions?\n",
    "if no natural partitions, random testing \n",
    "    -% that the code is right increases with every test \n",
    "\n",
    "- Black box testing: explore paths thru specifications \n",
    "\n",
    "- Glass box testing: explore paths through code\n",
    "\n",
    "    - Use code directly to guide design of test cases \n",
    "    \n",
    "    - Called path complete if every potential path through code is tested once \n",
    "    \n",
    "- Drawbacks: \n",
    "\n",
    "    - Can go thru loops arbritarly\n",
    "    \n",
    "    - Missing paths\n",
    "    \n",
    "    - guidelines:for, while, branches"
   ]
  },
  {
   "cell_type": "code",
   "execution_count": 28,
   "id": "185c26c6",
   "metadata": {},
   "outputs": [],
   "source": [
    "def sqrt(x,eps):\n",
    "    '''\n",
    "    #Example of Good Code notation\n",
    "    # Assumes x, eps floats, x>= 0, eps >0\n",
    "    # Returns res such that x-eps <= res*res<= x +eps\n",
    "    '''"
   ]
  },
  {
   "cell_type": "markdown",
   "id": "593d3e97",
   "metadata": {},
   "source": [
    "Designed without looking at code \n",
    "Can be done by someone other than implementer to avoid some implementer biases \n",
    "Testing can be reused if implementation changes \n",
    "    \n",
    "Paths thru specification \n",
    "    - Build test cases in different natural space partitions \n",
    "    - Also build boundary conditions \n"
   ]
  },
  {
   "cell_type": "code",
   "execution_count": 29,
   "id": "1a922ef0",
   "metadata": {},
   "outputs": [
    {
     "name": "stdout",
     "output_type": "stream",
     "text": [
      "4\n",
      "1\n",
      "-1\n"
     ]
    }
   ],
   "source": [
    "def abs(x):\n",
    "    '''assumes x is an int\n",
    "    returns x if x >0 and -x otherwise\n",
    "    '''\n",
    "    if  x < -1:\n",
    "        return -x\n",
    "    else:\n",
    "        return x\n",
    "print(abs(4)) #Works\n",
    "print(abs(1)) #Works\n",
    "print(abs(-1)) #not path complete"
   ]
  },
  {
   "cell_type": "markdown",
   "id": "81081821",
   "metadata": {},
   "source": [
    "To debug \n",
    "     - study code, scientific method, experiment"
   ]
  },
  {
   "cell_type": "markdown",
   "id": "2339f236",
   "metadata": {},
   "source": [
    "#### Error message examples \n",
    "    - Trying to access beyond a list -->IndexError \n",
    "    - Trying to convert an inappropriate type --> TypeError\n",
    "    - Referencing a non-exisent var: NameError\n",
    "    - Mixing data types w/o approriate coercion --> TypeError\n",
    "    - Forgetting to close ():SyntaxError\n",
    "    - Attribute Error --> attribute reference fails \n",
    "    - IOError --> IO malfuncation "
   ]
  },
  {
   "cell_type": "markdown",
   "id": "15f47205",
   "metadata": {},
   "source": [
    "#### What to do when code doesn't work \n",
    "Do!\n",
    "    - Write a function, unit testing, integration testing \n",
    "    - backup, change, write down potential bug, test \n",
    "    - Explain code to dumby, ducky, pictures, take a break \n"
   ]
  },
  {
   "cell_type": "code",
   "execution_count": 30,
   "id": "bf77fc78",
   "metadata": {},
   "outputs": [
    {
     "name": "stdout",
     "output_type": "stream",
     "text": [
      "put in a number\n",
      "bug in user input\n",
      "\n"
     ]
    }
   ],
   "source": [
    "#try doing this with a char\n",
    "try:\n",
    "    a = int(input('put in a number'))\n",
    "    b = int(input('put in another number'))\n",
    "    print (a/b)\n",
    "except:\n",
    "    print(input('bug in user input'))"
   ]
  },
  {
   "cell_type": "code",
   "execution_count": 31,
   "id": "6002f019",
   "metadata": {},
   "outputs": [
    {
     "name": "stdout",
     "output_type": "stream",
     "text": [
      "put in a number\n",
      "Could not convert to a number\n"
     ]
    }
   ],
   "source": [
    "#have separate except clauses to deal with a particular type of expection\n",
    "try:\n",
    "    '''\n",
    "    else block:\n",
    "    body of this is executed when execution of assoicated try blocks completes with no exceptions \n",
    "\n",
    "    finally: \n",
    "    body of this is always executed after try , else and except clauses, even if they raised an error or executed a\n",
    "    break, continue or return\n",
    "\n",
    "    useful to clean-up code that should be run \n",
    "    '''\n",
    "    a = int(input('put in a number'))\n",
    "    b = int(input('put in another number'))\n",
    "    print ('a/b = ',a/b)\n",
    "    print(\"a + b =\", a+b)\n",
    "except ValueError:\n",
    "    print('Could not convert to a number')\n",
    "except ZeroDivisionError:\n",
    "    print ('can not divide by 0')\n",
    "except: \n",
    "    print ('bug user for error')"
   ]
  },
  {
   "cell_type": "code",
   "execution_count": 32,
   "id": "6a3137a1",
   "metadata": {},
   "outputs": [],
   "source": [
    "#raising an exception\n",
    "\n",
    "def get_ratios(L1,L2):\n",
    "    '''\n",
    "    assumes l1 and l2 are lists of equal length of numbers \n",
    "    returns: a list containing L1[i]/L2[i]\n",
    "    '''\n",
    "    ratios = []\n",
    "    for index in range(len(L1)):\n",
    "        try:\n",
    "            ratios.append(L1[index]/L2[index])\n",
    "        except ZeroDivisionError:\n",
    "            ratios.append(float('nan')) #nan= not a number\n",
    "        except:\n",
    "            raise ValueError('get_ratios called with bad argument')\n",
    "    return ratios "
   ]
  },
  {
   "cell_type": "code",
   "execution_count": 33,
   "id": "c423859f",
   "metadata": {},
   "outputs": [],
   "source": [
    "def get_stats(class_list):\n",
    "    new_stats =[]\n",
    "    for elt in class_list:\n",
    "        new_stats.append([elt[0],elt[1],avg(elt[1])])\n",
    "    return new_stats\n",
    "def avg(grades):\n",
    "    return sum(grades)/len(grades)\n",
    "# but if there's a student that doesn't have a grade, need to write an except that accounts for that \n",
    "test_grades = [[['peter','parker'],[80.0,70.0,85.0],78.333],[['bruce','wayne'],[100.0,80.0,74],84.66]]"
   ]
  },
  {
   "cell_type": "code",
   "execution_count": 34,
   "id": "12d28cd5",
   "metadata": {},
   "outputs": [],
   "source": [
    "def avg(grades):\n",
    "    assert not len(grades) ==0, 'no grades data'\n",
    "    return sum(grades)/len(grades)\n",
    "#if assertion is F, then block doesn't work \n",
    "#works to spot bugs as soon as theyre introduced \n",
    "#supplement to testing \n",
    "#raise exceptions if users supplies bad data input \n",
    "#use asserations to \n",
    "    # check types of arguments or vlaue \n",
    "    # check that invariants on data strcutues are met \n",
    "    # check constraints on return values \n",
    "    # check for violations of contracts on procedure (no dups in list)"
   ]
  }
 ],
 "metadata": {
  "kernelspec": {
   "display_name": "Python 3",
   "language": "python",
   "name": "python3"
  },
  "language_info": {
   "codemirror_mode": {
    "name": "ipython",
    "version": 3
   },
   "file_extension": ".py",
   "mimetype": "text/x-python",
   "name": "python",
   "nbconvert_exporter": "python",
   "pygments_lexer": "ipython3",
   "version": "3.7.4"
  }
 },
 "nbformat": 4,
 "nbformat_minor": 5
}
